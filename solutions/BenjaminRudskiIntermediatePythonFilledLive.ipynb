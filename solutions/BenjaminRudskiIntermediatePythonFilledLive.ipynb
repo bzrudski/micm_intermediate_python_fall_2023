{
 "cells": [
  {
   "cell_type": "markdown",
   "metadata": {},
   "source": [
    "# Intermediate Python Skills\n",
    "\n",
    "MiCM Workshop - October 31, 2023\n",
    "\n",
    "Benjamin Rudski, PhD Student, Quantitative Life Sciences, McGill University\n",
    "\n",
    "Dear `Reader | Workshop Attendee`,\n",
    "Welcome! In this interactive Jupyter notebook, we will explore intermediate-level skills in the Python programming language. We'll cover material from functions and basic classes to writing scripts to run on the command line. This workshop assumes that you have a basic knowledge of Python. If you don't feel free to check out some beginner resources. In a shameless self-promotion plug, you may find my [Intro to Python](https://github.com/bzrudski/micm_intro_to_python_summer_2023) workshop helpful.\n",
    "\n",
    "This workshop will involve working through a single project, which we will progressively build. The final product, as well as a filled-in notebook, can be found in the [solutions](../solutions/) folder (to be uploaded at a later date). I recommend trying the exercises yourself before looking at the solutions. There's often more than one way to accomplish a task, so it's better that you figure out the intuition for yourself. Who knows... your answer may actually be better than the one I've provided!\n",
    "\n",
    "Here's the outline of this workshop:\n",
    "\n",
    "1.\tModule 0: Introduction and Problem Scenario (10 min)\n",
    "    1.\tIntroducing DNA sequence processing\n",
    "    2.\tWhy do we need scripts?\n",
    "2.\tModule 1: Functions (45 minutes)\n",
    "    1.\tWriting custom functions\n",
    "        1.\tFunction parameters\n",
    "        2.\tFunction return values\n",
    "        3.\tFunction documentation and type hints\n",
    "    2.\tHands-on activity: Write protein expression functions.\n",
    "3.\tModule 2: Classes and Object-Oriented Programming (1 hour)\n",
    "    1.\tIntroduction to classes and objects\n",
    "        1.\tWhat are objects?\n",
    "        2.\tWhat are classes? \n",
    "        3.\tWhat's the difference????\n",
    "    2.\tWriting classes – Gaining a sense of self\n",
    "        1.\tAttributes and initialization\n",
    "        2.\tMethods\n",
    "        3.\tDocumentation\n",
    "        4.\tHands-on activity: Writing classes to represent biological sequences.\n",
    "    3.\tData classes\n",
    "        1.\tWhat are data classes?\n",
    "        2.\tUsing data classes\n",
    "        3.\tHands-on activity: Updating out biological sequence classes.\n",
    "4.\tModule 3: Packages (45 minutes)\n",
    "    1.\tInstalling packages\n",
    "        1.\tFinding packages online (GitHub, PyPI)\n",
    "        2.\tInstalling packages using pip\n",
    "        3.\tInstalling packages using conda\n",
    "    2.\tUsing packages\n",
    "        1.\tImporting packages\n",
    "        2.\tUsing NumPy (includes reading documentation)\n",
    "    3.\tHands-on activity: Use NumPy to analyse the properties of multiple sequences.\n",
    "5.\tModule 4: Working with the Operating System and the User (1 hour)\n",
    "    1.\tInteracting with the operating system\n",
    "        1.\tWorking with text files\n",
    "        2.\tHands-on activity: Write code to read and write FASTA files. \n",
    "        3.\tFiles and paths: os and shutil\n",
    "        4.\tHands-on activity: Write code to copy all the FASTA files from a folder to another folder, read and translate them, then write the amino acid sequence to a new FASTA file with the same header in a new folder called “proteins”.\n",
    "    2.\tBasic scripts\n",
    "        1.\tRunning Python files from the command line\n",
    "        2.\tHands-on exercise: Move the code we’ve been working on in the Jupyter Notebook to a Python script.\n",
    "        3.\tAdding command line arguments using argparse\n",
    "        4.\tHands-on exercise: Update the script to accept the input sequence directory and output directory as command line arguments. Add optional arguments, like maximum number of sequences to process or maximum sequence length.\n",
    "6.\tModule 5: Where to go from here (10 min)\n",
    "    1.\tNext steps (topics to mention):\n",
    "        1.\tEnumerated types\n",
    "        2.\tClass inheritance\n",
    "        3.\tWorking with data frames using Pandas\n",
    "        4.\tCreating Python packages and distributing using PyPI, developing GUIs using PyQt5/6.\n",
    "    2.\tImportant resources\n",
    "        1.\tPython documentation\n",
    "        2.\tOnline tutorials\n",
    "        3.\tStack Overflow\n",
    "\n",
    "By the end of this workshop, you should feel comfortable writing Python scripts that involve classes and functions, as well as command line arguments. We'll also seem some useful skills for writing code, such as reading and writing documentation.\n"
   ]
  },
  {
   "cell_type": "markdown",
   "metadata": {},
   "source": [
    "# Module 0 - Introduction and Problem Scenario\n",
    "\n",
    "In this section, we will introduce the major topics discussed in this workshop, as well as the project we will use to explore the skills we develop.\n",
    "\n",
    "**Outline:**\n",
    "\n",
    "1. Introducing DNA Sequence Processing\n",
    "2. Why do we need scripts?"
   ]
  },
  {
   "cell_type": "markdown",
   "metadata": {},
   "source": [
    "## Introducing DNA Sequence Processing\n",
    "\n",
    "One of the most important tasks in genetics and genomics is processing DNA sequences. One of the first things we learn in university-level biology is the central dogma: how to do gene expression from DNA sequences to peptides. While doing this task manually works well for one or two short sequences, but what if we have hundreds of sequences, of hundreds of nucleotides?\n",
    "\n",
    "In this workshop, we will develop a tool to take a set of DNA sequences, translate them into peptide sequences and compute statistics about nucleotides and amino acids. Each section will bring new elements to this tool, until we have the finished product. We'll be able to run our final script from the command line, without needing to write any extra Python code.\n",
    "\n",
    "## Why do we need scripts?\n",
    "\n",
    "Some of you may be wondering... why should we both with writing a script?\n",
    "\n",
    "Well, let's consider the alternatives...\n",
    "\n",
    "* We could just re-write the same code over and over again... but won't this take a lot of time?\n",
    "* Ok, fine... well what about just copy-pasting code? Well, then we need to make sure all our variables have the right name and we need to make sure all the processing steps are done right.\n",
    "* Well, what about having a sophisticated Python package that takes care of all the processing code? Well, you still need to plug in your inputs!\n",
    "\n",
    "So, what are the benefits of writing a script:\n",
    "\n",
    "* Easily perform multiple complicated tasks in series.\n",
    "* No need to write tons of code each time! Just write the code once and it's done!\n",
    "* Scripts can be run **automatically** on your own computer, or on a cluster, like DRAC (formerly Compute Canada)."
   ]
  },
  {
   "cell_type": "markdown",
   "metadata": {},
   "source": [
    "# Module 1 - Functions\n",
    "\n",
    "It's all good and fun to write all the steps you want to do line-by-line. But, let's say you want to run the same set of steps multiple times, potentially on different inputs. Instead of copying the code, we can write **functions**. Chances are you've seen functions already, but I'm including them here to make sure everyone is at the same level.\n",
    "\n",
    "## Writing Custom Functions\n",
    "\n",
    "We can think of functions as machines that take in **inputs**, run code (do calculations, magic or a bit of both), and then produce an **output** that can be used.\n",
    "\n",
    "![Diagram of a function as taking input and producing output](assets/Function.png)\n",
    "\n",
    "The inputs are known as *parameters* or *arguments* and the outputs are known as *return values*.\n",
    "\n",
    "You've probably already *used* functions when working with the Python standard library and built-in objects, like `str`s and `list`s. Now, let's **define** functions. In Python, functions are defined using the `def` keyword. The syntax is:\n",
    "\n",
    "```python\n",
    "\n",
    "def function_name(argument1, argument2, argument3, ..., argumentN):\n",
    "    \"\"\"\n",
    "    documentation here\n",
    "    \"\"\"\n",
    "\n",
    "    your_code_here...\n",
    "\n",
    "    return some_value\n",
    "\n",
    "```\n",
    "Here are the important elements to notice when **defining** a function:\n",
    "\n",
    "* The function definition begins with the `def` keyword. This is similar to the `function` keyword in Javascript, or the `func` keyword in Swift.\n",
    "* The **function name** follows the same rules as variable names. There are different naming conventions for names that consist of multiple words (`snake_case` vs `camelCase`).\n",
    "* After the function name, you can include a list of parameters. **If your function takes no arguments, you must still put the brackets.** Each argument in the list must have a valid variable name. We'll discuss these in more detail.\n",
    "* After closing the argument list bracket, we put a **colon** (`:`).\n",
    "* After the first line, we must **indent**. This tells Python where the function body begins and ends.\n",
    "* We can start the body with a **docstring**, which describes the function. We'll discuss these more later.\n",
    "* Then, you write your code as normal. In this function body, treat the arguments **like normal variables**.\n",
    "* To **output** a result that can be used later, use the keyword `return`, followed by the result. We'll discuss this in more detail.\n",
    "* After finishing to define the function, simply stop indenting. There's no need to close any brackets or type `end`."
   ]
  },
  {
   "cell_type": "markdown",
   "metadata": {},
   "source": [
    "To demonstrate, let's write a simple function with no arguments that simply prints a string onto the screen:"
   ]
  },
  {
   "cell_type": "code",
   "execution_count": 181,
   "metadata": {},
   "outputs": [],
   "source": [
    "# Your code here\n",
    "\n",
    "def do_nothing():\n",
    "    print(\"Hello, World!\")"
   ]
  },
  {
   "cell_type": "markdown",
   "metadata": {},
   "source": [
    "Wait! What happened? Or well, what didn't happen? We didn't see any string... What's going on?\n",
    "\n",
    "Well, we only **defined** the function. To actually run the function we must *call* it. To call a function, simply write the name of the function, followed by the desired arguments in brackets. **If the function takes no arguments, you must still type the empty brackets.**"
   ]
  },
  {
   "cell_type": "markdown",
   "metadata": {},
   "source": [
    "Let's call our function we just defined:"
   ]
  },
  {
   "cell_type": "code",
   "execution_count": 182,
   "metadata": {},
   "outputs": [
    {
     "name": "stdout",
     "output_type": "stream",
     "text": [
      "Hello, World!\n"
     ]
    }
   ],
   "source": [
    "# Your code here\n",
    "do_nothing()"
   ]
  },
  {
   "cell_type": "markdown",
   "metadata": {},
   "source": [
    "### Function Parameters\n",
    "\n",
    "This function was great, but we said that a function takes input and produces output... This does neither!!! So, let's add some parameters to this function. Let's look at the specific syntax:\n",
    "\n",
    "```python\n",
    "\n",
    "def my_function(arg1, arg2, arg3, ..., argN):\n",
    "    my_code...\n",
    "\n",
    "```\n",
    "\n",
    "We separate each parameter using commas. We can then refer to these as variables in the function body. Let's write a new function that takes a DNA sequence as input and prints the transcribed RNA. To make it more interesting, let's add an extra parameter that indicates whether we are considering the sequence to be on the template strand."
   ]
  },
  {
   "cell_type": "code",
   "execution_count": 183,
   "metadata": {},
   "outputs": [],
   "source": [
    "# Your code here\n",
    "\n",
    "def transcribe_dna(dna_sequence, is_template_strand):\n",
    "    if is_template_strand:\n",
    "        m_rna_sequence = \"\"\n",
    "\n",
    "        for nt in dna_sequence:\n",
    "            if nt == \"A\":\n",
    "                m_rna_sequence += \"U\"\n",
    "            elif nt == \"T\":\n",
    "                m_rna_sequence += \"A\"\n",
    "            elif nt == \"C\":\n",
    "                m_rna_sequence += \"G\"\n",
    "            else:\n",
    "                m_rna_sequence += \"C\"\n",
    "    else:\n",
    "        m_rna_sequence = dna_sequence.replace(\"T\", \"U\")\n",
    "\n",
    "    print(m_rna_sequence)"
   ]
  },
  {
   "cell_type": "markdown",
   "metadata": {},
   "source": [
    "And now, let's call this function using a specific sequence."
   ]
  },
  {
   "cell_type": "code",
   "execution_count": 184,
   "metadata": {},
   "outputs": [
    {
     "name": "stdout",
     "output_type": "stream",
     "text": [
      "UUAAUCGCUCGGCUUAUAUAUCGGCGCUAAGUCUGUCAAGGUCGCGU\n",
      "AAUUAGCGAGCCGAAUAUAUAGCCGCGAUUCAGACAGUUCCAGCGCA\n"
     ]
    }
   ],
   "source": [
    "my_sequence = \"AATTAGCGAGCCGAATATATAGCCGCGATTCAGACAGTTCCAGCGCA\"\n",
    "\n",
    "# Your code here\n",
    "transcribe_dna(my_sequence, True)\n",
    "transcribe_dna(my_sequence, False)"
   ]
  },
  {
   "cell_type": "markdown",
   "metadata": {},
   "source": [
    "This works well! Except, what if most of the time, we're going to call the function on the template strand? It would be nice if we didn't have to specify this argument every time we call the function.\n",
    "\n",
    "Good news! We can set default values for function arguments. These are known as *keyword* arguments. Values without a default value are known as *positional* arguments. To specify the default value, simply assign the value with `=`:\n",
    "\n",
    "```python\n",
    "\n",
    "def my_function(my_positional_arg, my_kw_arg=default_value):\n",
    "    ...\n",
    "\n",
    "```\n",
    "\n",
    "Let's extend our transcription example to set a default value for the `is_template_strand` parameter:"
   ]
  },
  {
   "cell_type": "code",
   "execution_count": 185,
   "metadata": {},
   "outputs": [
    {
     "name": "stdout",
     "output_type": "stream",
     "text": [
      "UUAAUCGCUCGGCUUAUAUAUCGGCGCUAAGUCUGUCAAGGUCGCGU\n",
      "AAUUAGCGAGCCGAAUAUAUAGCCGCGAUUCAGACAGUUCCAGCGCA\n",
      "AAUUAGCGAGCCGAAUAUAUAGCCGCGAUUCAGACAGUUCCAGCGCA\n"
     ]
    }
   ],
   "source": [
    "# Your code here\n",
    "\n",
    "def transcribe_dna(dna_sequence, is_template_strand=True):\n",
    "    if is_template_strand:\n",
    "        m_rna_sequence = \"\"\n",
    "\n",
    "        for nt in dna_sequence:\n",
    "            if nt == \"A\":\n",
    "                m_rna_sequence += \"U\"\n",
    "            elif nt == \"T\":\n",
    "                m_rna_sequence += \"A\"\n",
    "            elif nt == \"C\":\n",
    "                m_rna_sequence += \"G\"\n",
    "            else:\n",
    "                m_rna_sequence += \"C\"\n",
    "    else:\n",
    "        m_rna_sequence = dna_sequence.replace(\"T\", \"U\")\n",
    "\n",
    "    print(m_rna_sequence)\n",
    "\n",
    "transcribe_dna(my_sequence)\n",
    "transcribe_dna(my_sequence, False)\n",
    "transcribe_dna(is_template_strand=False, dna_sequence=my_sequence)"
   ]
  },
  {
   "cell_type": "markdown",
   "metadata": {},
   "source": [
    "There are a few important rules to remember about positional and keyword arguments:\n",
    "\n",
    "1. Positional arguments **always** come first, both when defining and when calling functions.\n",
    "2. When calling a function, you **must** include **all** positional arguments, but you can omit keyword arguments (since they have default values).\n",
    "3. **Any** argument can be written in keyword argument form when calling a function, but if you write a positional argument in keyword form, **all** subsequent arguments must be written in keyword form.\n",
    "4. **Any** argument can be written in positional form when calling a function, but **all** preceding arguments must be positional as well.\n",
    "5. Keyword arguments can be passed in **any order**, but positional arguments must be kept in the same order."
   ]
  },
  {
   "cell_type": "markdown",
   "metadata": {},
   "source": [
    "## Function Return Values\n",
    "\n",
    "So, we've seen how to pass information into functions, but now, how do we get information out? The answer is **return values**. These return values let us capture the result of a function, which we can then use like a normal variable in code. To return a value, we simply type `return` followed by the value we want to return.\n",
    "\n",
    "Here's the syntax:\n",
    "```python\n",
    "\n",
    "def my_function(...):\n",
    "    ...\n",
    "\n",
    "    my_result = ...\n",
    "\n",
    "    ...\n",
    "\n",
    "    return my_result\n",
    "\n",
    "```\n",
    "\n",
    "Let's now switch our previous transcription function to *return* the mRNA instead of simply printing it:"
   ]
  },
  {
   "cell_type": "code",
   "execution_count": 186,
   "metadata": {},
   "outputs": [],
   "source": [
    "# Your code here\n",
    "\n",
    "def transcribe_dna(dna_sequence, is_template_strand=True):\n",
    "    if is_template_strand:\n",
    "        m_rna_sequence = \"\"\n",
    "\n",
    "        for nt in dna_sequence:\n",
    "            if nt == \"A\":\n",
    "                m_rna_sequence += \"U\"\n",
    "            elif nt == \"T\":\n",
    "                m_rna_sequence += \"A\"\n",
    "            elif nt == \"C\":\n",
    "                m_rna_sequence += \"G\"\n",
    "            else:\n",
    "                m_rna_sequence += \"C\"\n",
    "    else:\n",
    "        m_rna_sequence = dna_sequence.replace(\"T\", \"U\")\n",
    "\n",
    "    return m_rna_sequence"
   ]
  },
  {
   "cell_type": "markdown",
   "metadata": {},
   "source": [
    "So, this is how to return the value. Now, let's see how to capture and use it. To capture the value, we simply assign it to a variable, like normal."
   ]
  },
  {
   "cell_type": "code",
   "execution_count": 187,
   "metadata": {},
   "outputs": [
    {
     "name": "stdout",
     "output_type": "stream",
     "text": [
      "UUAAUCGCUCGGCUUAUAUAUCGGCGCUAAGUCUGUCAAGGUCGCGU\n",
      "The length of my mrna is 47\n"
     ]
    }
   ],
   "source": [
    "# Your code here\n",
    "my_mrna = transcribe_dna(my_sequence)\n",
    "\n",
    "print(my_mrna)\n",
    "print(f\"The length of my mrna is {len(my_mrna)}\")"
   ]
  },
  {
   "cell_type": "markdown",
   "metadata": {},
   "source": [
    "**Note:** If your code has multiple branches, you can put multiple return statements in your code. **But**, once your code reaches the `return` line, the function **stops** and returns to the code that called it. Any code that you've written after the `return` statement **will not run**."
   ]
  },
  {
   "cell_type": "markdown",
   "metadata": {},
   "source": [
    "We can also return *multiple* values using tuples, lists or dictionaries. For example, let's say we want to count the number of each type of nucleotide in a sequence of DNA:"
   ]
  },
  {
   "cell_type": "code",
   "execution_count": 188,
   "metadata": {},
   "outputs": [],
   "source": [
    "# Your code here\n",
    "\n",
    "def count_nucleotides(dna_sequence):\n",
    "    number_of_a = 0\n",
    "    number_of_t = 0\n",
    "    number_of_c = 0\n",
    "    number_of_g = 0\n",
    "\n",
    "    dna_sequence = dna_sequence.upper()\n",
    "\n",
    "    for nt in dna_sequence:\n",
    "        if nt == \"A\":\n",
    "            number_of_a += 1\n",
    "        elif nt == \"T\":\n",
    "            number_of_t += 1\n",
    "        elif nt == \"C\":\n",
    "            number_of_c += 1\n",
    "        else:\n",
    "            number_of_g += 1\n",
    "    \n",
    "    return number_of_a, number_of_t, number_of_c, number_of_g"
   ]
  },
  {
   "cell_type": "markdown",
   "metadata": {},
   "source": [
    "Now, let's run this code on an example:"
   ]
  },
  {
   "cell_type": "code",
   "execution_count": 189,
   "metadata": {},
   "outputs": [
    {
     "data": {
      "text/plain": [
       "(15, 9, 12, 11)"
      ]
     },
     "execution_count": 189,
     "metadata": {},
     "output_type": "execute_result"
    }
   ],
   "source": [
    "# Your code here\n",
    "count_nucleotides(my_sequence)"
   ]
  },
  {
   "cell_type": "markdown",
   "metadata": {},
   "source": [
    "This is great! But let's say you get this function from someone else to import and use in your own code. You don't want to have to find this function and read all the code just to use it... But, how do we know what parameters this function takes and what values it returns..."
   ]
  },
  {
   "cell_type": "markdown",
   "metadata": {},
   "source": [
    "## Function Documentation and Type Hints\n",
    "\n",
    "The answer to this question is **documentation**. When defining a function, we can provide a *docstring*, which describes the important information about a function in a **human-readable** form. The docstring is just a string that a person can read to learn more about a function. If you're using a code editor or IDE, like VS code or PyCharm, this string appears when you hover your mouse over a function. The information contained in this docstring can include:\n",
    "\n",
    "* A brief description of the function.\n",
    "* A longer description of the function. If you're implementing an existing approach, it could be good to include a citation here. You can also include equations here.\n",
    "* A description of the function parameters, including their types.\n",
    "* A description of the function return values, as well as their types. This is especially useful if you are returning multiple values and need to include their order.\n",
    "\n",
    "Let's clarify our previous example by adding a docstring:\n"
   ]
  },
  {
   "cell_type": "code",
   "execution_count": 190,
   "metadata": {},
   "outputs": [],
   "source": [
    "# Your code here\n",
    "\n",
    "def count_nucleotides(dna_sequence):\n",
    "    \"\"\"\n",
    "    Nucleotide Counter.\n",
    "\n",
    "    This function counts the number of each type of nucleotide in a DNA sequence.\n",
    "\n",
    "    Arguments:\n",
    "        - dna_sequence: string containing a DNA sequence.\n",
    "    \n",
    "    Returns:\n",
    "        - Tuple containing number of (A, T, C, G)\n",
    "    \"\"\"\n",
    "\n",
    "    number_of_a = 0\n",
    "    number_of_t = 0\n",
    "    number_of_c = 0\n",
    "    number_of_g = 0\n",
    "\n",
    "    dna_sequence = dna_sequence.upper()\n",
    "\n",
    "    for nt in dna_sequence:\n",
    "        if nt == \"A\":\n",
    "            number_of_a += 1\n",
    "        elif nt == \"T\":\n",
    "            number_of_t += 1\n",
    "        elif nt == \"C\":\n",
    "            number_of_c += 1\n",
    "        else:\n",
    "            number_of_g += 1\n",
    "    \n",
    "    return number_of_a, number_of_t, number_of_c, number_of_g"
   ]
  },
  {
   "cell_type": "code",
   "execution_count": 191,
   "metadata": {},
   "outputs": [
    {
     "name": "stdout",
     "output_type": "stream",
     "text": [
      "Help on function count_nucleotides in module __main__:\n",
      "\n",
      "count_nucleotides(dna_sequence)\n",
      "    Nucleotide Counter.\n",
      "    \n",
      "    This function counts the number of each type of nucleotide in a DNA sequence.\n",
      "    \n",
      "    Arguments:\n",
      "        - dna_sequence: string containing a DNA sequence.\n",
      "    \n",
      "    Returns:\n",
      "        - Tuple containing number of (A, T, C, G)\n",
      "\n"
     ]
    }
   ],
   "source": [
    "help(count_nucleotides)"
   ]
  },
  {
   "cell_type": "markdown",
   "metadata": {},
   "source": [
    "So, this is great for making it easy for other people to read... But, the docstring is just a string. The code editor doesn't understand it and can't give us suggestions based on it. But, we can do get this extra help using **type hints**.\n",
    "\n",
    "**Type hints** are a relatively recent addition to Python. They allow us to *explicitly* indicate the types of function parameters, return values and any other variable. That way, the code editor can tell us if we've passed the wrong type of value somewhere, or even give us suggestions as we type."
   ]
  },
  {
   "cell_type": "markdown",
   "metadata": {},
   "source": [
    "### A quick refresh on types\n",
    "\n",
    "Everything in Python has a type. When you have a string of text, such as `\"Hello, world!\"`, it is a Python *object* of type `str` (string). If you have an integer number, like `4`, it is an object of type `int`. If you have a list, it is an object of type `list`. Hopefully, you get the idea by now.\n",
    "\n",
    "In many cases the type can be inferred. For example, if you write\n",
    "```python\n",
    "\n",
    "x = 5\n",
    "\n",
    "```\n",
    "\n",
    "Then you know that `x` has type `int`. You can check the type of a variable `x` by running:\n",
    "```python\n",
    "type(x)\n",
    "```\n",
    "\n",
    "We'll see later how to create new types.\n",
    "\n",
    "Let's see a few more examples of types:"
   ]
  },
  {
   "cell_type": "code",
   "execution_count": 192,
   "metadata": {},
   "outputs": [
    {
     "data": {
      "text/plain": [
       "int"
      ]
     },
     "execution_count": 192,
     "metadata": {},
     "output_type": "execute_result"
    }
   ],
   "source": [
    "# Your code here\n",
    "x: float = 4\n",
    "\n",
    "type(x)"
   ]
  },
  {
   "cell_type": "markdown",
   "metadata": {},
   "source": [
    "### Type Hints\n",
    "\n",
    "Although in the earlier cases we saw the type is implied, we can also explicitly set the type of different variables. We do this by adding a colon and the name of the type after the variable name. For example:\n",
    "```python\n",
    "\n",
    "x: int = 6\n",
    "y: str = \"world\"\n",
    "\n",
    "```\n",
    "\n",
    "This extra bit that we add is known as a *type hint*. It gives a hint to the reader and the code editor about the specific type of the variable.\n",
    "\n",
    "**Note:** Type variables are simply an annotation. They *don't* actually change the type of the object. If you want to convert from one type to another, you need a different function.\n",
    "\n",
    "### Type Hints and Functions\n",
    "\n",
    "There are certain operations that we can only perform on certain types. For example, you can subtract two `int`s or two `float`s, but you can't subtract two `str`s. In your function, you perform operations on the arguments that are passed in. These operations often make assumptions about the **type** of the arguments. With type hints, you express clearly for the computer, as well as your code editor, what exactly those assumptions are. To add type hints to the arguments, we just repeat the above syntax with the colon and the type name after the parameter names. Let's add type hints to our earlier transcription code:"
   ]
  },
  {
   "cell_type": "code",
   "execution_count": 193,
   "metadata": {},
   "outputs": [],
   "source": [
    "# Your code here\n",
    "\n",
    "def transcribe_dna(dna_sequence: str, is_template_strand: bool = True) -> str:\n",
    "    \"\"\"\n",
    "    Transcribe DNA to mRNA.\n",
    "\n",
    "    ...\n",
    "    \"\"\"\n",
    "    \n",
    "    if is_template_strand:\n",
    "        m_rna_sequence = \"\"\n",
    "\n",
    "        for nt in dna_sequence:\n",
    "            if nt == \"A\":\n",
    "                m_rna_sequence += \"U\"\n",
    "            elif nt == \"T\":\n",
    "                m_rna_sequence += \"A\"\n",
    "            elif nt == \"C\":\n",
    "                m_rna_sequence += \"G\"\n",
    "            else:\n",
    "                m_rna_sequence += \"C\"\n",
    "    else:\n",
    "        m_rna_sequence = dna_sequence.replace(\"T\", \"U\")\n",
    "\n",
    "    return m_rna_sequence"
   ]
  },
  {
   "cell_type": "markdown",
   "metadata": {},
   "source": [
    "Type hints aren't just for parameters! They can also be used to specify function return types. After the parameter definition, but before the last colon, we add and arrow (`->`) followed by the return type. Let's add this to our function!"
   ]
  },
  {
   "cell_type": "code",
   "execution_count": 194,
   "metadata": {},
   "outputs": [],
   "source": [
    "#Your code here\n",
    "\n",
    "my_mrna = transcribe_dna(my_sequence, is_template_strand=False)"
   ]
  },
  {
   "cell_type": "markdown",
   "metadata": {},
   "source": [
    "You may not be entirely convinced yet... Well, try calling the function with the wrong type of argument. Or try assigning it to the result to a variable of the wrong type. See what your editor does. If it does nothing, **make sure that you have turned on type checking**."
   ]
  },
  {
   "cell_type": "code",
   "execution_count": 195,
   "metadata": {},
   "outputs": [],
   "source": [
    "# Your code here\n",
    "# my_mrna: int = transcribe_dna(56, is_template_strand=False)"
   ]
  },
  {
   "cell_type": "markdown",
   "metadata": {},
   "source": [
    "For collection types, like `list` and `tuple`, we can also modify the type hint to give information about the *contents*. We put the type contained in the collection in **square brackets** after the collection type name. Using this knowledge, let's update our transcription function."
   ]
  },
  {
   "cell_type": "code",
   "execution_count": 196,
   "metadata": {},
   "outputs": [],
   "source": [
    "from typing import List\n",
    "\n",
    "def transcribe_dna_list(dna_sequence: List[str], is_template_strand: bool = True) -> str:\n",
    "    \"\"\"\n",
    "    Transcribe DNA to mRNA.\n",
    "\n",
    "    ...\n",
    "    \"\"\"\n",
    "    \n",
    "    if is_template_strand:\n",
    "        m_rna_sequence = \"\"\n",
    "\n",
    "        for nt in dna_sequence:\n",
    "            if nt == \"A\":\n",
    "                m_rna_sequence += \"U\"\n",
    "            elif nt == \"T\":\n",
    "                m_rna_sequence += \"A\"\n",
    "            elif nt == \"C\":\n",
    "                m_rna_sequence += \"G\"\n",
    "            else:\n",
    "                m_rna_sequence += \"C\"\n",
    "    else:\n",
    "        m_rna_sequence = \"\" \n",
    "        \n",
    "        for nt in dna_sequence:\n",
    "            if nt == \"T\":\n",
    "                new_nt = \"U\"\n",
    "            else:\n",
    "                new_nt = nt\n",
    "\n",
    "            m_rna_sequence += new_nt\n",
    "\n",
    "    return m_rna_sequence"
   ]
  },
  {
   "cell_type": "markdown",
   "metadata": {},
   "source": [
    "Another cool thing is that in some editors, if you hover your mouse over the function name, when you see the function header, you see the types! So this will help you get a better idea of what types you need."
   ]
  },
  {
   "cell_type": "markdown",
   "metadata": {},
   "source": [
    "## Module 1 - Hands-on Activity\n",
    "\n",
    "Let's put the skills we've learned in this module into practice.\n",
    "\n",
    "**Recall our overall project.** We want to write transcription and translation. We've already written a function to perform transcription from DNA to mRNA. Let's now work on another function: Translation from mRNA to protein, ignoring the mRNA preprocessing. \n",
    "\n",
    "To test this code, I've provided a couple of random DNA sequences."
   ]
  },
  {
   "cell_type": "code",
   "execution_count": 197,
   "metadata": {},
   "outputs": [],
   "source": [
    "amino_acid_to_codon_table = {\n",
    "    \"F\": [\"UUU\", \"UUC\"],\n",
    "    \"L\": [\"UUA\", \"UUG\", \"CUU\", \"CUC\", \"CUA\", \"CUG\"],\n",
    "    \"I\": [\"AUU\", \"AUC\", \"AUA\"],\n",
    "    \"M\": [\"AUG\"],\n",
    "    \"V\": [\"GUU\", \"GUC\", \"GUA\", \"GUG\"],\n",
    "    \"S\": [\"UCU\", \"UCC\", \"UCA\", \"UCG\", \"AGU\", \"AGC\"],\n",
    "    \"P\": [\"CCU\", \"CCC\", \"CCA\", \"CCG\"],\n",
    "    \"T\": [\"ACU\", \"ACC\", \"ACA\", \"ACG\"],\n",
    "    \"A\": [\"GCU\", \"GCC\", \"GCA\", \"GCG\"],\n",
    "    \"Y\": [\"UAU\", \"UAC\"],\n",
    "    \"STOP\": [\"UAA\", \"UAG\", \"UGA\"],\n",
    "    \"H\": [\"CAU\", \"CAC\"],\n",
    "    \"Q\": [\"CAA\", \"CAG\"],\n",
    "    \"N\": [\"AAU\", \"AAC\"],\n",
    "    \"K\": [\"AAA\", \"AAG\"],\n",
    "    \"D\": [\"GAU\", \"GAC\"],\n",
    "    \"E\": [\"GAA\", \"GAG\"],\n",
    "    \"C\": [\"UGU\", \"UGC\"],\n",
    "    \"W\": [\"UGG\"],\n",
    "    \"R\": [\"CGU\", \"CGC\", \"CGA\", \"CGG\", \"AGA\", \"AGG\"],\n",
    "    \"G\": [\"GGU\", \"GGC\", \"GGA\", \"GGG\"]\n",
    "}\n",
    "\n",
    "# Convert the table to have the codons as keys and the amino acids as values.\n",
    "my_codon_table = {}\n",
    "\n",
    "for amino_acid, codon_list in amino_acid_to_codon_table.items():\n",
    "    for codon in codon_list:\n",
    "        my_codon_table[codon] = amino_acid\n",
    "\n",
    "# Your code here\n",
    "\n",
    "def translate_mrna(mrna_sequence: str) -> str:\n",
    "    \"\"\"\n",
    "    Translate mRNA to Amino Acid Sequence.\n",
    "\n",
    "    Translate mRNA sequence containing a start codon and open reading frame\n",
    "    to an amino acid sequence using single-letter codes.\n",
    "\n",
    "    Arguments:\n",
    "        - mrna_sequence: string containing mRNA.\n",
    "    \n",
    "    Returns:\n",
    "        - string of single-letter amino acids, beginning with M.\n",
    "    \"\"\"\n",
    "\n",
    "    amino_acid_sequence = \"\"\n",
    "    start_position = -1\n",
    "\n",
    "    for i in range(len(mrna_sequence)):\n",
    "\n",
    "        candidate_codon = mrna_sequence[i: i+3]\n",
    "\n",
    "        if candidate_codon == \"AUG\":\n",
    "            start_position = i\n",
    "            amino_acid_sequence += my_codon_table[\"AUG\"]\n",
    "            break\n",
    "\n",
    "    for i in range(start_position + 3, len(mrna_sequence), 3):\n",
    "        \n",
    "        new_codon = mrna_sequence[i: i+3]\n",
    "        new_amino_acid = my_codon_table[new_codon]\n",
    "\n",
    "        if new_amino_acid == \"STOP\":\n",
    "            break\n",
    "        else:\n",
    "            amino_acid_sequence += new_amino_acid\n",
    "\n",
    "    return amino_acid_sequence\n",
    "\n",
    "\n",
    "# To make things easier later, copy your transcription function here.\n",
    "# Your code here\n",
    "\n",
    "def transcribe_dna(dna_sequence: str, is_template_strand: bool = True) -> str:\n",
    "    \"\"\"\n",
    "    Transcribe DNA to mRNA.\n",
    "\n",
    "    ...\n",
    "    \"\"\"\n",
    "    \n",
    "    if is_template_strand:\n",
    "        m_rna_sequence = \"\"\n",
    "\n",
    "        for nt in dna_sequence:\n",
    "            if nt == \"A\":\n",
    "                m_rna_sequence += \"U\"\n",
    "            elif nt == \"T\":\n",
    "                m_rna_sequence += \"A\"\n",
    "            elif nt == \"C\":\n",
    "                m_rna_sequence += \"G\"\n",
    "            else:\n",
    "                m_rna_sequence += \"C\"\n",
    "    else:\n",
    "        m_rna_sequence = dna_sequence.replace(\"T\", \"U\")\n",
    "\n",
    "    return m_rna_sequence"
   ]
  },
  {
   "cell_type": "code",
   "execution_count": 198,
   "metadata": {},
   "outputs": [
    {
     "name": "stdout",
     "output_type": "stream",
     "text": [
      "My transcribed mRNA is ACAUACCCCCGUGCGCGCGACUCAGCGUCGCCCGGGAACUACAGGGCGCUACGGGAGGGGCUUCAGGACUCCACCGGCGCACGUUAUGGGGAACGCUGCGGUGAUACGACACGUCCGUGCCGCGCCCCAGCGCGUCGCGCGCCAACGACGCCCGCGCCUUAAGAGGGCGCCGGAUUCGGUCCCAGCGAGAUGAGUACAUGCCCCACAGCUUCGGGCAUGCAGGCGAACGCGUGCCUGUUGUGCCGCACGCCCGGACCUGGCAACGGGUUUGGGUGCCGCGGACGCAUACGGCGCCCGAUGGCCGUACCACGCGGGGUGGGACGCCUGGGGGUACUCCCAAGAGGCCAGGCGGUUUCUGUGUACCACGGGCUGCCUGGGGAGGGGUAUUCGAGAUGGACUGACGAAUCACCUCGGGGACACGCAGCGUCCCAUCCGGCUGAAGCUACUACUCGCCACGCGGACAGCGGGGCAUCACGGGCGGGGUCCCCGCGGUUUGGUCUGAGACCUGGCUAUCUCUCAUCGGCUGACAUUGCGGCACCCUCUCCGAACGGCUUAGUUGCCUAGGUGCCGAGGUCUGACGGCACCCGCAACUGGGGCCCGCCUGGUGCCGGGCCGUUACCUGAAAAGAAAGUGGCACUUGUUUACUCUGAGUCGGCUCGGGUCCAUCUCUCUGGUACCGCACAAGCUCUGCCAGACGCACCGAUCAAUGUUGACACCGCCCCUACAGGCCGCCGAGUUGUGUGGGCCGGUCUAGACCUUCAGGUAGGCGCAGCCACGGGCCAAACAUGACCGGACGCGGUAGUCAUCACAGUAGCCCGGAUCCAUAACCUAGAACCACUUCCUCCGGUAUUGGGGCGCCCGCCGUCGUUAUGUCGCCGGGUAUUUGGAGGGCAGAGGCGCCGGAAUCUGGCGCCCGGGGCUUACUGCGGUCCCGGAUCGCGGCGCCCGGGCGGUGAGCCCCGGGGAUGCGUGACUGUGCGUGCACCAGGGAGGCUAGGAG\n",
      "My translated peptide is MGNAAVIRHVRAAPQRVARQRRPRLKRAPDSVPAR\n"
     ]
    }
   ],
   "source": [
    "# Testing: Here are the random DNA sequences. One is a template strand, while the other is not.\n",
    "\n",
    "template_strand = \"TGTATGGGGGCACGCGCGCTGAGTCGCAGCGGGCCCTTGATGTCCCGCGATGCCCTCCCCGAAGTCCTGAGGTGGCCGCGTGCAATACCCCTTGCGACGCCACTATGCTGTGCAGGCACGGCGCGGGGTCGCGCAGCGCGCGGTTGCTGCGGGCGCGGAATTCTCCCGCGGCCTAAGCCAGGGTCGCTCTACTCATGTACGGGGTGTCGAAGCCCGTACGTCCGCTTGCGCACGGACAACACGGCGTGCGGGCCTGGACCGTTGCCCAAACCCACGGCGCCTGCGTATGCCGCGGGCTACCGGCATGGTGCGCCCCACCCTGCGGACCCCCATGAGGGTTCTCCGGTCCGCCAAAGACACATGGTGCCCGACGGACCCCTCCCCATAAGCTCTACCTGACTGCTTAGTGGAGCCCCTGTGCGTCGCAGGGTAGGCCGACTTCGATGATGAGCGGTGCGCCTGTCGCCCCGTAGTGCCCGCCCCAGGGGCGCCAAACCAGACTCTGGACCGATAGAGAGTAGCCGACTGTAACGCCGTGGGAGAGGCTTGCCGAATCAACGGATCCACGGCTCCAGACTGCCGTGGGCGTTGACCCCGGGCGGACCACGGCCCGGCAATGGACTTTTCTTTCACCGTGAACAAATGAGACTCAGCCGAGCCCAGGTAGAGAGACCATGGCGTGTTCGAGACGGTCTGCGTGGCTAGTTACAACTGTGGCGGGGATGTCCGGCGGCTCAACACACCCGGCCAGATCTGGAAGTCCATCCGCGTCGGTGCCCGGTTTGTACTGGCCTGCGCCATCAGTAGTGTCATCGGGCCTAGGTATTGGATCTTGGTGAAGGAGGCCATAACCCCGCGGGCGGCAGCAATACAGCGGCCCATAAACCTCCCGTCTCCGCGGCCTTAGACCGCGGGCCCCGAATGACGCCAGGGCCTAGCGCCGCGGGCCCGCCACTCGGGGCCCCTACGCACTGACACGCACGTGGTCCCTCCGATCCTC\"\n",
    "non_template_strand = \"TACGCCGAGAAAGTACTTAAACGCAACCTCTACCCCCTGGGAGACTACCGCAAAAGATTGAACACGTATTAATGGCACAACGCTGCCAAGAGGCTACTTAAATGTAAGTAGTGGGCGACCGAGTGCCGCACACTCAAGAGTAGCGGTGATTACTCTAGTTGCTTATTGGAGTTTTTTCTCCGTGTGGGCTTTACCCGGACATTGTACGGTAATTTTATTAAGGCAATGTTAGACAATGTACGTCTAGCCATCCTGGCGCCTAATGGTGCCTCTCCGCTGTGGTCTTGTAAACCGTACTGCATCCCTCGGGCCGTGAGAGTCTTACATTTAAGTGGCTCAAAATCAACGGTCCTAAAGAAGATCACAGTAAAGTCCCTGATACGAAATACATTGTCCCGGTCCGCGAAGTACTACGCCACGCCGGCATGGAGATGAATAGGTTTGGAAAATCACTTCACAAAAGATGCGATAAAAACGGGTATAACACCTCTAGATGGTGACACCACTACTAATAGCAGTGAGTAGTCATTCTTCCCCTGCTGCTAGAGAGTTAGTTATGGCGCTTGGACTAATGCCATATTTATGCGTCTCCTACGGATCAGTTATTTTAGTCTTCCCAGCCCCTGCGGTCCCCGTATCTCAACTCGAGTTATGGGATTGGAATCAACCCGCATATGTCCTACCAGTTAGAGTACTAGCGTCGATCGCATCCGCCTTTCAATTAGTCCCAGAGCGATCAAGGGGTCTACATGGCACGATACAGGTTAACCACATTCAGTGAATAAAAGGACAACCGTAACTGATCGGGTGCGAGAACAAGCGACTTTGGAGTACACTGTAAAGTCTTTGTGTGGATGTATTCATGTCATTCGGGAGTATTGCTTGGCGATGGTTGGGGCCGAGCGGAAAAGCCGACTATTTGGCGAATTGGGCCCTGTTACAATGCCTTACTTCGCTCACTCGTCAATAAGTCGATTAAGGCGGGGCGGTCCTCATCCGC\"\n",
    "\n",
    "my_mrna = transcribe_dna(template_strand, is_template_strand=True)\n",
    "my_amino_acids = translate_mrna(my_mrna)\n",
    "\n",
    "print(f\"My transcribed mRNA is {my_mrna}\")\n",
    "print(f\"My translated peptide is {my_amino_acids}\")"
   ]
  },
  {
   "cell_type": "markdown",
   "metadata": {},
   "source": [
    "## Module 1 - Summary\n",
    "\n",
    "In this module, we've seen how to write **functions** that take in **parameters** (inputs), produce **return values** (output) and how to document these functions using docstrings and type hints.\n",
    "\n",
    "Here are the key concepts to remember:\n",
    "* Function **parameters**: positional vs. keyword parameters.\n",
    "* Function **return values** and how to return multiple values.\n",
    "* Function **documentation** through **docstrings** and **type hints**.\n",
    "\n",
    "Keep these key elements in mind as we move on to the next section."
   ]
  },
  {
   "cell_type": "markdown",
   "metadata": {},
   "source": [
    "# Module 2 - Classes and Object-Oriented Programming\n",
    "\n",
    "In your programming experience, you've worked with variables and basic operations. Now we've also seen how to write functions. We can now store data and perform complicated operations on it. So, is this it?\n",
    "\n",
    "Well, not exactly. We can do much of what we want with variables and operations and functions, but what if we want to combine functions and variables together to more easily model a real-world thing... or an *object*? Good news! This is the realm of **object-oriented programming** (OOP)."
   ]
  },
  {
   "cell_type": "markdown",
   "metadata": {},
   "source": [
    "## Introduction to Classes and Objects\n",
    "\n",
    "Two **extremely** important concepts in OOP are **objects** and **classes**. Understanding both is **vital**. So, let's dive into each.\n",
    "\n",
    "### What are Objects?\n",
    "\n",
    "In OOP, an **object** is, as the name suggests, a representation of a real-world (or abstract) *thing*. You can access the properties, or *attributes* of this thing, and you can perform operations, known as *methods*, with it.\n",
    "\n",
    "For example, let's say there is a ball outside. This ball is an object. Looking at it, you determine that it's green. This is an **attribute** of the ball. You can also do operations on it, like deflate it, inflate it or throw it. These are functions, or *methods*, that you can perform on the object.\n",
    "\n",
    "We've actually been using objects all along. In Python, **everything is an object**. For example, let's create a list and add a new entry to it:"
   ]
  },
  {
   "cell_type": "code",
   "execution_count": 199,
   "metadata": {},
   "outputs": [
    {
     "name": "stdout",
     "output_type": "stream",
     "text": [
      "[3, 4, 5, 6]\n"
     ]
    }
   ],
   "source": [
    "# Your code here\n",
    "\n",
    "my_list = [3, 4, 5]\n",
    "\n",
    "my_list.append(6)\n",
    "\n",
    "print(my_list)"
   ]
  },
  {
   "cell_type": "markdown",
   "metadata": {},
   "source": [
    "The `append` function that we used is a *method* belonging to the list object. Similarly, if we want to take a string and find a certain character we write this code:"
   ]
  },
  {
   "cell_type": "code",
   "execution_count": 200,
   "metadata": {},
   "outputs": [
    {
     "data": {
      "text/plain": [
       "5"
      ]
     },
     "execution_count": 200,
     "metadata": {},
     "output_type": "execute_result"
    }
   ],
   "source": [
    "# Your code here\n",
    "\n",
    "my_string = \"Hello!!!\"\n",
    "\n",
    "my_string.find(\"!\")"
   ]
  },
  {
   "cell_type": "markdown",
   "metadata": {},
   "source": [
    "This code calls the string's `find` method. Notice how the variable comes before a dot. This **dot notation** is important in Object-Oriented Programming (OOP).\n",
    "\n",
    "So, we've seen that **objects group together useful variables and functions**, but how do we create a new type of object? The answer is coming right up!"
   ]
  },
  {
   "cell_type": "markdown",
   "metadata": {},
   "source": [
    "### What are Classes?\n",
    "\n",
    "Let's say we want to represent a DNA sequence in Python. We could simply represent the sequence as a string and then write a bunch of functions that take in a string as argument to perform DNA processing tasks. But, we've just seen that we can use objects to group together these *attributes* (the DNA sequence) and *methods* (the DNA processing functions). So, we want to make an object. But how?\n",
    "\n",
    "We need to create a template that defines what a DNA sequence is. This template states which attributes exist for a DNA sequence, as well as which methods, and how to create a new DNA sequence object. This template is known as a **class** in Python. We'll see in the next section exactly how to write classes, but here's the syntax quickly:\n",
    "\n",
    "```python\n",
    "\n",
    "class ClassName:\n",
    "    \"\"\"\n",
    "    docstring goes here\n",
    "    \"\"\"\n",
    "\n",
    "    def __init__(self, arg1, arg2, arg3):\n",
    "        self.attr1 = arg1\n",
    "        self.attr2 = arg2\n",
    "        self.attr3 = arg3\n",
    "\n",
    "    def some_method(self, some_arg1, some_arg2):\n",
    "        ...\n",
    "\n",
    "```\n",
    "\n",
    "We'll go into **much** more depth about this in the next section.\n",
    "\n",
    "A final important note is that a **class defines a new type**. This is especially important if you are adding type hints to your code. The code in the above example creates a new type of object, called `ClassName`. All new objects created using this class are of type `ClassName`."
   ]
  },
  {
   "cell_type": "markdown",
   "metadata": {},
   "source": [
    "### What's the difference????\n",
    "\n",
    "Some of you may be wondering what the difference is between classes and objects. Here are the important points to remember:\n",
    "\n",
    "* *Objects* are essentially a group of variables and functions representing a single thing (whether it is something concrete like a DNA sequence, or something abstract). Each object has its own internal attributes.\n",
    "* *Classes* are **templates** used to create new many objects. The class defines what attributes and methods each new created object has.\n",
    "\n",
    "Still confused? Think about this: the classes tell you how to make the objects. The class is the blueprint and it tells you what type of object you are creating, while the object is the actual finished product.\n",
    "\n",
    "Want a biology analogy? The **class is the gene**, the **object is the protein**."
   ]
  },
  {
   "cell_type": "markdown",
   "metadata": {},
   "source": [
    "## Writing Classes - Gaining a Sense of `self`\n",
    "\n",
    "Now that we've gotten the theoretical intro out of the way, let's talk about actually writing classes! I gave you a quick teaser of the syntax earlier. Now let's look at it in more depth:\n",
    "\n",
    "```python\n",
    "\n",
    "class ClassName:\n",
    "    \"\"\"\n",
    "    docstring goes here\n",
    "    \"\"\"\n",
    "\n",
    "    def __init__(self, arg1, arg2, arg3):\n",
    "        self.attr1 = arg1\n",
    "        self.attr2 = arg2\n",
    "        self.attr3 = arg3\n",
    "\n",
    "    def some_method(self, some_arg1, some_arg2):\n",
    "        ...\n",
    "\n",
    "```\n",
    "\n",
    "Here are the important points to remember:\n",
    "* We declare a new class with the `class` keyword.\n",
    "* The class needs a name to define what type of object it creates. The naming convention for class names is `UpperCamelCase`, *regardless of your naming convention for everything else*. The first letter of the class name is traditionally capitalised, as is the first letter of any other word combined to make the name.\n",
    "* As usual, in Python, no brace brackets. We put a colon (:) after the class name.\n",
    "* Like functions, classes can include documentation in the form of a docstring. We'll cover this more in a bit.\n",
    "* The first function we see looks a bit weird. This `__init__` is a special function called an initialiser. We'll see more about it in the next section.\n",
    "* We'll also discuss what this `self` argument in the function means.\n",
    "* The next function, or *method*, that we see is called `some_method`. We'll discuss methods soon, as well as the mysterious `self` parameter that has continued to appear.\n",
    "* As usual, no closing brackets or `end` or anything like that. The class definition ends when you stop indenting. **Note:** The entire body of the class definition is indented. If you forget to indent, the class will **not** work as expected.\n",
    "\n",
    "### Attributes and Initialisation\n",
    "\n",
    "Attributes are the properties associated with an object. For example, if we want to create a class to represent a DNA sequence, the main attribute we need is the actual nucleotide sequence, either as a string or as a list. Ok, good! So now we know what attribute we want... but how do we actually set it?\n",
    "\n",
    "The answer is: using the **initialiser**, also known in other languages as the *constructor*. The **initialiser** is a special method that runs whenever you create, or *instantiate* an object of that class. The name of this method is `__init__`, with **two** underscores before and after.\n",
    "\n",
    "Here's the typical syntax of an initialiser:\n",
    "```python\n",
    "\n",
    "def __init__(self, arg1, arg2, arg3):\n",
    "    self.attr1 = arg1\n",
    "    ... # Other initialisation code\n",
    "\n",
    "    # NO return statement!\n",
    "\n",
    "```\n",
    "\n",
    "There's a bit to unpack here. We've already discussed the name of the method. I want to emphasise that you **CANNOT** change the name of the init method!\n",
    "\n",
    "#### The Inner `self`\n",
    "\n",
    "It's time to get in touch with your inner `self`... Let's talk about what `self` means. In all methods (as we'll see), including the initialiser, the first argument is (almost) **always** `self`.\n",
    "\n",
    "`self` very simply, is a variable that refers to the current object you're working with. In the `__init__` initialiser, `self` refers to the new object that you are constructing. We'll discuss more in the **methods** section.\n",
    "\n",
    "#### Back to the init\n",
    "\n",
    "So, now that we've figured out what `self` means, let's see the rest of the initialiser. Since the initialiser is a **function**, it can take in other parameters. \n",
    "\n",
    "In the function body, the magic happens. Here, you **define the attributes**. To assign an attribute, you must use the **dot syntax**. To define a new attribute, you simply perform variable assignment, **making sure that you have put `self.` before the name of the attribute.\n",
    "\n",
    "Finally, **be careful**, the initialiser has **NO RETURN VALUE**. You **do not** return the created object. This is automatically performed.\n",
    "\n",
    "As an example, let's write a simple class for representing a DNA sequence:"
   ]
  },
  {
   "cell_type": "code",
   "execution_count": 201,
   "metadata": {},
   "outputs": [],
   "source": [
    "# Your code here\n",
    "\n",
    "class DnaSequence:\n",
    "    \n",
    "    def __init__(self, dna_sequence: str):\n",
    "        self.dna_sequence = dna_sequence"
   ]
  },
  {
   "cell_type": "markdown",
   "metadata": {},
   "source": [
    "Recall that when were seeing functions, *defining* the function was quite different from actually *calling* it. Well, we have the same idea for classes. To be able to create a new object, we need to instantiate it using the initialiser. To do this, we simply write the class name, and then put the initialiser arguments in parentheses:"
   ]
  },
  {
   "cell_type": "code",
   "execution_count": 202,
   "metadata": {},
   "outputs": [],
   "source": [
    "# Your code here\n",
    "\n",
    "my_dna_sequence = DnaSequence(\"AGGAGAGATATAGATAGTCCGATCG\")"
   ]
  },
  {
   "cell_type": "markdown",
   "metadata": {},
   "source": [
    "Now that we have our object, let's try to access it's attribute. Remember, like when working with strings or lists, to access information in our object, we use **dot notation**. For example, let's look at the `sequence` attribute of our DNA sequence:"
   ]
  },
  {
   "cell_type": "code",
   "execution_count": 203,
   "metadata": {},
   "outputs": [
    {
     "name": "stdout",
     "output_type": "stream",
     "text": [
      "<__main__.DnaSequence object at 0x7fcb28a1b4c0>\n",
      "AGGAGAGATATAGATAGTCCGATCG\n"
     ]
    }
   ],
   "source": [
    "# Your code here\n",
    "\n",
    "print(my_dna_sequence)\n",
    "print(my_dna_sequence.dna_sequence)"
   ]
  },
  {
   "cell_type": "markdown",
   "metadata": {},
   "source": [
    "### Methods\n",
    "\n",
    "**Methods** are simply functions that live in a class and are (usually) called on a specific object. As explained above, the first parameter is **always** `self`. To be able to access information (e.g., attributes, methods) about the object that the method is being called on, you **must** use `self`. **Python is not like certain other programming languages** in this way. You **cannot** omit `self`. Unlike the initialiser, methods **can** return values.\n",
    "\n",
    "Let's now re-write our DNA sequence class, adding a transcription method to it:"
   ]
  },
  {
   "cell_type": "code",
   "execution_count": 204,
   "metadata": {},
   "outputs": [],
   "source": [
    "# Your code here\n",
    "\n",
    "class DnaSequence:\n",
    "    \n",
    "    def __init__(self, dna_sequence: str):\n",
    "        self.dna_sequence = dna_sequence\n",
    "\n",
    "    def transcribe(self, is_template_strand: bool = True) -> str:\n",
    "        \"\"\"\n",
    "        Transcribe DNA to mRNA.\n",
    "\n",
    "        ...\n",
    "        \"\"\"\n",
    "        \n",
    "        if is_template_strand:\n",
    "            m_rna_sequence = \"\"\n",
    "\n",
    "            for nt in self.dna_sequence:\n",
    "                if nt == \"A\":\n",
    "                    m_rna_sequence += \"U\"\n",
    "                elif nt == \"T\":\n",
    "                    m_rna_sequence += \"A\"\n",
    "                elif nt == \"C\":\n",
    "                    m_rna_sequence += \"G\"\n",
    "                else:\n",
    "                    m_rna_sequence += \"C\"\n",
    "        else:\n",
    "            m_rna_sequence = self.dna_sequence.replace(\"T\", \"U\")\n",
    "\n",
    "        return m_rna_sequence"
   ]
  },
  {
   "cell_type": "markdown",
   "metadata": {},
   "source": [
    "Let's now call this method on a sample sequence:"
   ]
  },
  {
   "cell_type": "code",
   "execution_count": 205,
   "metadata": {},
   "outputs": [
    {
     "name": "stdout",
     "output_type": "stream",
     "text": [
      "AAUUAGCGAGCCGAAUAUAUAGCCGCGAUUCAGACAGUUCCAGCGCA\n"
     ]
    }
   ],
   "source": [
    "# Your code here\n",
    "my_dna_sequence = DnaSequence(my_sequence)\n",
    "my_mrna_sequence = my_dna_sequence.transcribe(is_template_strand=False)\n",
    "\n",
    "print(my_mrna_sequence)"
   ]
  },
  {
   "cell_type": "markdown",
   "metadata": {},
   "source": [
    "But wait!!! What happened to `self`? When we call the method on the object using the dot notation, the `self` is *implicitly* passed. The object before the dot is passed as `self`. There is a way of calling the method while explicitly specifying `self`... It involves placing the *class name* before the dot and then the instance as the first argument."
   ]
  },
  {
   "cell_type": "markdown",
   "metadata": {},
   "source": [
    "A common thing we like to do in programming is print text onto the screen. You've probably seen the `print` function called on strings, integers and lists. Well, now let's call `print` on our DNA sequence:"
   ]
  },
  {
   "cell_type": "code",
   "execution_count": 206,
   "metadata": {},
   "outputs": [
    {
     "name": "stdout",
     "output_type": "stream",
     "text": [
      "<__main__.DnaSequence object at 0x7fcaf8c0e470>\n"
     ]
    }
   ],
   "source": [
    "# Your code here\n",
    "print(my_dna_sequence)"
   ]
  },
  {
   "cell_type": "markdown",
   "metadata": {},
   "source": [
    "Well... That's not very helpful. We haven't gotten any information about our DNA sequence from this... what is this thing anyways? It's some sort of indication of where in the computer's memory you're data is stored. You don't need to worry about that. But, what if we want to call `print` on our DNA sequence object and get some nice output involving the sequence?"
   ]
  },
  {
   "cell_type": "markdown",
   "metadata": {},
   "source": [
    "To do this, we used some special Python methods. In addition to regular methods, classes can define special *magic* Python methods. One such method is `__str__(self) -> str`. This function is called whenever a your variable is sent as argument to the `print` function. Let's change it in our DNA sequence class:"
   ]
  },
  {
   "cell_type": "code",
   "execution_count": 207,
   "metadata": {},
   "outputs": [],
   "source": [
    "# Your code here\n",
    "\n",
    "class DnaSequence:\n",
    "    \n",
    "    def __init__(self, dna_sequence: str):\n",
    "        self.dna_sequence = dna_sequence\n",
    "\n",
    "    def __str__(self) -> str:\n",
    "        return f\"DNA sequence of {len(self.dna_sequence)} nucleotides: {self.dna_sequence}\"\n",
    "\n",
    "    def transcribe(self, is_template_strand: bool = True) -> str:\n",
    "        \"\"\"\n",
    "        Transcribe DNA to mRNA.\n",
    "\n",
    "        ...\n",
    "        \"\"\"\n",
    "        \n",
    "        if is_template_strand:\n",
    "            m_rna_sequence = \"\"\n",
    "\n",
    "            for nt in self.dna_sequence:\n",
    "                if nt == \"A\":\n",
    "                    m_rna_sequence += \"U\"\n",
    "                elif nt == \"T\":\n",
    "                    m_rna_sequence += \"A\"\n",
    "                elif nt == \"C\":\n",
    "                    m_rna_sequence += \"G\"\n",
    "                else:\n",
    "                    m_rna_sequence += \"C\"\n",
    "        else:\n",
    "            m_rna_sequence = self.dna_sequence.replace(\"T\", \"U\")\n",
    "\n",
    "        return m_rna_sequence"
   ]
  },
  {
   "cell_type": "code",
   "execution_count": 208,
   "metadata": {},
   "outputs": [
    {
     "name": "stdout",
     "output_type": "stream",
     "text": [
      "DNA sequence of 47 nucleotides: AATTAGCGAGCCGAATATATAGCCGCGATTCAGACAGTTCCAGCGCA\n",
      "<class '__main__.DnaSequence'>\n",
      "DNA sequence of 63 nucleotides: AGGATGTAGTCTCGCATGCTAGCTAGCTACGTAGCATGCATGCATGCTATCATGCTAGTAGCT\n",
      "<class '__main__.DnaSequence'>\n"
     ]
    }
   ],
   "source": [
    "my_dna_sequence = DnaSequence(my_sequence)\n",
    "\n",
    "print(my_dna_sequence)\n",
    "print(type(my_dna_sequence))\n",
    "\n",
    "my_new_dna_sequence = DnaSequence(\"AGGATGTAGTCTCGCATGCTAGCTAGCTACGTAGCATGCATGCATGCTATCATGCTAGTAGCT\")\n",
    "\n",
    "print(my_new_dna_sequence)\n",
    "print(type(my_new_dna_sequence))"
   ]
  },
  {
   "cell_type": "markdown",
   "metadata": {},
   "source": [
    "There are a bunch of other functions like this. Take the time to explore what they have to offer (see [here](https://docs.python.org/3/reference/datamodel.html#specialnames) and [here](https://realpython.com/python-classes/#special-methods-and-protocols) and [here](https://medium.com/fintechexplained/advanced-python-what-are-magic-methods-d21891cf9a08))."
   ]
  },
  {
   "cell_type": "markdown",
   "metadata": {},
   "source": [
    "### Documentation\n",
    "\n",
    "Just like we can document functions using docstrings, we can also document entire classes. This is especially useful if your class implements an idea from the literature, or if you would like to explain any quirks about the class. You can also add docstrings to all your methods.\n",
    "\n",
    "The docstring usually contains a brief explanation of the class, followed by a more detailed description, and then a description of attributes, and a list of the methods (see [here](https://peps.python.org/pep-0257/)).\n",
    "\n",
    "Let's add a docstring to our DNA sequence:"
   ]
  },
  {
   "cell_type": "code",
   "execution_count": 209,
   "metadata": {},
   "outputs": [],
   "source": [
    "# Your code here\n",
    "\n",
    "class DnaSequence:\n",
    "    \"\"\"\n",
    "    DNA Sequence\n",
    "\n",
    "    This class represents a DNA sequence.\n",
    "\n",
    "    Attributes:\n",
    "        - dna_sequence: string containing DNA nucleotides.\n",
    "\n",
    "    Methods:\n",
    "        - transcribe: produce mRNA based on DNA sequence.\n",
    "    \"\"\"\n",
    "    \n",
    "    def __init__(self, dna_sequence):\n",
    "        self.dna_sequence = dna_sequence\n",
    "\n",
    "    def __str__(self):\n",
    "        return f\"DNA sequence of {len(self.dna_sequence)} nucleotides: {self.dna_sequence}\"\n",
    "\n",
    "    def transcribe(self, is_template_strand=True):\n",
    "        \"\"\"\n",
    "        Transcribe DNA to mRNA.\n",
    "\n",
    "        ...\n",
    "        \"\"\"\n",
    "        \n",
    "        if is_template_strand:\n",
    "            m_rna_sequence = \"\"\n",
    "\n",
    "            for nt in self.dna_sequence:\n",
    "                if nt == \"A\":\n",
    "                    m_rna_sequence += \"U\"\n",
    "                elif nt == \"T\":\n",
    "                    m_rna_sequence += \"A\"\n",
    "                elif nt == \"C\":\n",
    "                    m_rna_sequence += \"G\"\n",
    "                else:\n",
    "                    m_rna_sequence += \"C\"\n",
    "        else:\n",
    "            m_rna_sequence = self.dna_sequence.replace(\"T\", \"U\")\n",
    "\n",
    "        return m_rna_sequence"
   ]
  },
  {
   "cell_type": "markdown",
   "metadata": {},
   "source": [
    "One final thing we can do is add type hints to our methods. In fact, you can even \"declare\" your variables in the class main body with the type hints. Let's tweak our DNA sequence class a bit more."
   ]
  },
  {
   "cell_type": "code",
   "execution_count": 210,
   "metadata": {},
   "outputs": [],
   "source": [
    "# Your code here\n",
    "\n",
    "# Your code here\n",
    "\n",
    "class DnaSequence:\n",
    "    \"\"\"\n",
    "    DNA Sequence\n",
    "\n",
    "    This class represents a DNA sequence.\n",
    "\n",
    "    Attributes:\n",
    "        - dna_sequence: string containing DNA nucleotides.\n",
    "\n",
    "    Methods:\n",
    "        - transcribe: produce mRNA based on DNA sequence.\n",
    "    \"\"\"\n",
    "    \n",
    "    # Here, we essentially declare our attribute.\n",
    "    dna_sequence: str\n",
    "    \n",
    "    def __init__(self, dna_sequence: str):\n",
    "        self.dna_sequence = dna_sequence\n",
    "\n",
    "    def __str__(self) -> str:\n",
    "        return f\"DNA sequence of {len(self.dna_sequence)} nucleotides: {self.dna_sequence}\"\n",
    "\n",
    "    def transcribe(self, is_template_strand: bool = True) -> str:\n",
    "        \"\"\"\n",
    "        Transcribe DNA to mRNA.\n",
    "\n",
    "        ...\n",
    "        \"\"\"\n",
    "        \n",
    "        if is_template_strand:\n",
    "            m_rna_sequence = \"\"\n",
    "\n",
    "            for nt in self.dna_sequence:\n",
    "                if nt == \"A\":\n",
    "                    m_rna_sequence += \"U\"\n",
    "                elif nt == \"T\":\n",
    "                    m_rna_sequence += \"A\"\n",
    "                elif nt == \"C\":\n",
    "                    m_rna_sequence += \"G\"\n",
    "                else:\n",
    "                    m_rna_sequence += \"C\"\n",
    "        else:\n",
    "            m_rna_sequence = self.dna_sequence.replace(\"T\", \"U\")\n",
    "\n",
    "        return m_rna_sequence"
   ]
  },
  {
   "cell_type": "markdown",
   "metadata": {},
   "source": [
    "One last important thing! Classes define new types. So, you can use these in type annotations elsewhere in your code!"
   ]
  },
  {
   "cell_type": "markdown",
   "metadata": {},
   "source": [
    "### Classes - Hands-on Activity I: Biological Sequences\n",
    "\n",
    "We've been seeing how to write well-documented classes that include attributes and methods. Let's put this into practice. Over the course of this module, we have been working on writing a DNA sequence class. Let's now write a class to represent RNA sequences. Think about what attributes and methods we need."
   ]
  },
  {
   "cell_type": "code",
   "execution_count": 211,
   "metadata": {},
   "outputs": [],
   "source": [
    "# Your code here\n",
    "\n",
    "from typing import Dict\n",
    "\n",
    "class RnaSequence:\n",
    "    \"\"\"\n",
    "    RNA Sequence\n",
    "\n",
    "    This class represents an mRNA sequence.\n",
    "\n",
    "    Attributes:\n",
    "        - rna_sequence: string of ribonucleotides (A, U, C, G).\n",
    "        - codon_table: dictionary containing codons as keys and amino acids as values.\n",
    "\n",
    "    Methods:\n",
    "        - translate: convert mRNA into amino acid sequence.\n",
    "    \"\"\"\n",
    "\n",
    "    rna_sequence: str\n",
    "    codon_table: Dict[str, str]\n",
    "\n",
    "    def __init__(self, rna_sequence: str):\n",
    "        self.rna_sequence = rna_sequence\n",
    "\n",
    "        amino_acid_to_codon_table = {\n",
    "            \"F\": [\"UUU\", \"UUC\"],\n",
    "            \"L\": [\"UUA\", \"UUG\", \"CUU\", \"CUC\", \"CUA\", \"CUG\"],\n",
    "            \"I\": [\"AUU\", \"AUC\", \"AUA\"],\n",
    "            \"M\": [\"AUG\"],\n",
    "            \"V\": [\"GUU\", \"GUC\", \"GUA\", \"GUG\"],\n",
    "            \"S\": [\"UCU\", \"UCC\", \"UCA\", \"UCG\", \"AGU\", \"AGC\"],\n",
    "            \"P\": [\"CCU\", \"CCC\", \"CCA\", \"CCG\"],\n",
    "            \"T\": [\"ACU\", \"ACC\", \"ACA\", \"ACG\"],\n",
    "            \"A\": [\"GCU\", \"GCC\", \"GCA\", \"GCG\"],\n",
    "            \"Y\": [\"UAU\", \"UAC\"],\n",
    "            \"STOP\": [\"UAA\", \"UAG\", \"UGA\"],\n",
    "            \"H\": [\"CAU\", \"CAC\"],\n",
    "            \"Q\": [\"CAA\", \"CAG\"],\n",
    "            \"N\": [\"AAU\", \"AAC\"],\n",
    "            \"K\": [\"AAA\", \"AAG\"],\n",
    "            \"D\": [\"GAU\", \"GAC\"],\n",
    "            \"E\": [\"GAA\", \"GAG\"],\n",
    "            \"C\": [\"UGU\", \"UGC\"],\n",
    "            \"W\": [\"UGG\"],\n",
    "            \"R\": [\"CGU\", \"CGC\", \"CGA\", \"CGG\", \"AGA\", \"AGG\"],\n",
    "            \"G\": [\"GGU\", \"GGC\", \"GGA\", \"GGG\"]\n",
    "        }\n",
    "\n",
    "        # Convert the table to have the codons as keys and the amino acids as values.\n",
    "        self.codon_table = {}\n",
    "\n",
    "        for amino_acid, codon_list in amino_acid_to_codon_table.items():\n",
    "            for codon in codon_list:\n",
    "                self.codon_table[codon] = amino_acid\n",
    "\n",
    "    def __str__(self) -> str:\n",
    "        return f\"RNA sequence of {len(self.rna_sequence)} nucleotides\"\n",
    "\n",
    "    def translate(self) -> str:\n",
    "        \"\"\"\n",
    "        Translate mRNA to Amino Acid Sequence.\n",
    "\n",
    "        Translate mRNA sequence containing a start codon and open reading frame\n",
    "        to an amino acid sequence using single-letter codes.\n",
    "        \n",
    "        Returns:\n",
    "            - string of single-letter amino acids, beginning with M.\n",
    "        \"\"\"\n",
    "\n",
    "        amino_acid_sequence = \"\"\n",
    "        start_position = -1\n",
    "\n",
    "        # We want to make sure that we don't go beyond the end of the string!\n",
    "        for i in range(len(self.rna_sequence)-2):\n",
    "\n",
    "            candidate_codon = self.rna_sequence[i: i+3]\n",
    "\n",
    "            if candidate_codon == \"AUG\":\n",
    "                start_position = i\n",
    "                amino_acid_sequence += self.codon_table[\"AUG\"]\n",
    "                break\n",
    "\n",
    "        # Again, we want to not go beyond the end.\n",
    "        for i in range(start_position + 3, len(self.rna_sequence)-2, 3):\n",
    "            \n",
    "            new_codon = self.rna_sequence[i: i+3]\n",
    "            new_amino_acid = self.codon_table[new_codon]\n",
    "\n",
    "            if new_amino_acid == \"STOP\":\n",
    "                break\n",
    "            else:\n",
    "                amino_acid_sequence += new_amino_acid\n",
    "\n",
    "        return amino_acid_sequence\n",
    "\n"
   ]
  },
  {
   "cell_type": "markdown",
   "metadata": {},
   "source": [
    "## Data Classes\n",
    "\n",
    "Recall our initialiser for our DNA sequence class. We didn't really do much in this method, aside from setting some attributes that have the same name as our arguments. What if we want to add a new attribute? Later on, we'll look at working with FASTA files. In a FASTA file, each sequence has a name associated with it. So, let's add a `sequence_name` attribute to the class:"
   ]
  },
  {
   "cell_type": "code",
   "execution_count": 212,
   "metadata": {},
   "outputs": [],
   "source": [
    "# Your code here\n",
    "\n",
    "class DnaSequence:\n",
    "    \"\"\"\n",
    "    DNA Sequence\n",
    "\n",
    "    This class represents a DNA sequence.\n",
    "\n",
    "    Attributes:\n",
    "        - dna_sequence: string containing DNA nucleotides.\n",
    "        - sequence_name: string representing the name of the sequence.\n",
    "\n",
    "    Methods:\n",
    "        - transcribe: produce mRNA based on DNA sequence.\n",
    "    \"\"\"\n",
    "    \n",
    "    dna_sequence: str\n",
    "    sequence_name: str\n",
    "    \n",
    "    def __init__(self, dna_sequence: str, sequence_name: str):\n",
    "        self.dna_sequence = dna_sequence\n",
    "        self.sequence_name = sequence_name\n",
    "\n",
    "    def __str__(self) -> str:\n",
    "        return f\"DNA sequence of {len(self.dna_sequence)} nucleotides: {self.dna_sequence}\"\n",
    "\n",
    "\n",
    "    def transcribe(self, is_template_strand: bool = True) -> str:\n",
    "        \"\"\"\n",
    "        Transcribe DNA to mRNA.\n",
    "\n",
    "        ...\n",
    "        \"\"\"\n",
    "        \n",
    "        if is_template_strand:\n",
    "            m_rna_sequence = \"\"\n",
    "\n",
    "            for nt in self.dna_sequence:\n",
    "                if nt == \"A\":\n",
    "                    m_rna_sequence += \"U\"\n",
    "                elif nt == \"T\":\n",
    "                    m_rna_sequence += \"A\"\n",
    "                elif nt == \"C\":\n",
    "                    m_rna_sequence += \"G\"\n",
    "                else:\n",
    "                    m_rna_sequence += \"C\"\n",
    "        else:\n",
    "            m_rna_sequence = self.dna_sequence.replace(\"T\", \"U\")\n",
    "\n",
    "        return m_rna_sequence"
   ]
  },
  {
   "cell_type": "markdown",
   "metadata": {},
   "source": [
    "So, we had to add another argument, and another line to the constructor, just to assign a variable that has the same name as our argument. This seems a bit tedious.\n",
    "\n",
    "In Python, there's actually a way of creating classes that **automatically generate** the initialiser based on the specified attributes. Classes created this way are known as **data classes**. For all the details, see the [Python documentation](https://docs.python.org/3/library/dataclasses.html).\n",
    "\n",
    "### What are Data Classes?\n",
    "\n",
    "Data classes have a few helpful features:\n",
    "\n",
    "* No need to write the initialiser! `__init__` is generated automatically based on the specified attributes.\n",
    "* You get a simple default `__str__` method which provides helpful information about the attributes.\n",
    "* You can easily generate a Python dictionary based on a data class, and vice-versa.\n",
    "\n",
    "These features make data classes especially helpful if you're passing around a bunch of... well, data. For example, if you are reading parameters from a file, it could be nice to simply load them into a data class.\n",
    "\n",
    "### Using Data Classes\n",
    "\n",
    "Here's the overall syntax:\n",
    "\n",
    "```python\n",
    "\n",
    "import dataclasses\n",
    "\n",
    "\n",
    "@dataclasses.dataclass\n",
    "class MyDataClass:\n",
    "    \"\"\"\n",
    "    A class to contain data.\n",
    "\n",
    "    This class contains a number of different attributes.\n",
    "    \"\"\"\n",
    "    my_first_attribute: int\n",
    "    my_second_attribute: str\n",
    "    my_third_attribute: float = 2.3\n",
    "\n",
    "```\n",
    "\n",
    "Let's look at this code in a bit more detail. First, we have an import statement. We'll talk about imports more in the next module, but the important thing to know is that we are bringing in code from a different part of the Python Standard Library. Next, we have what looks like a normal class declaration, but there's a weird thing above the `class` line. The `@dataclasses.dataclass` is a special Python object called a *decorator*. We won't go into much detail above these, but it is **extremely** important to remember the decorator. This decorator takes the class that you've defined and runs some code to turn it into a data class.\n",
    "\n",
    "**If you forget the decorator, your data class WILL NOT WORK.**\n",
    "\n",
    "Then, in the class definition, we include all our attributes **with type annotations**.\n",
    "\n",
    "That's it. No need to write a separate initialiser, and we get a clear view of our attributes and any default values. The `@dataclasses.dataclass` decorator takes care of the initialiser. Don't believe me? Let's try to write this class:"
   ]
  },
  {
   "cell_type": "code",
   "execution_count": 213,
   "metadata": {},
   "outputs": [],
   "source": [
    "# Your code here\n",
    "\n",
    "import dataclasses\n",
    "\n",
    "@dataclasses.dataclass\n",
    "class MyDataClass:\n",
    "    \"\"\"\n",
    "    Simple data class.\n",
    "\n",
    "    Simple data class containing a few attributes.\n",
    "    \"\"\"\n",
    "\n",
    "    my_string: str\n",
    "    my_int: int = 42\n",
    "    my_float: float = 4.2"
   ]
  },
  {
   "cell_type": "code",
   "execution_count": 214,
   "metadata": {},
   "outputs": [],
   "source": [
    "my_simple_data_object = MyDataClass(my_string=\"hi!\")"
   ]
  },
  {
   "cell_type": "markdown",
   "metadata": {},
   "source": [
    "Now, for another nice feature, let's try to print our data class:"
   ]
  },
  {
   "cell_type": "code",
   "execution_count": 215,
   "metadata": {},
   "outputs": [
    {
     "name": "stdout",
     "output_type": "stream",
     "text": [
      "MyDataClass(my_string='hi!', my_int=42, my_float=4.2)\n"
     ]
    }
   ],
   "source": [
    "# Your code here\n",
    "print(my_simple_data_object)"
   ]
  },
  {
   "cell_type": "markdown",
   "metadata": {},
   "source": [
    "So, we also get a nice `__str__` method!\n",
    "\n",
    "In practice, I recommend using data classes when the main purpose of your class is simply to store data. But, you may be wondering... why bother creating a whole class? Why not use a dictionary? Well, in a dictionary, you have to remember what the keys are. If the keys are strings, you could make a typo, which you'll only realise once your code doesn't work. With a class, your editor can flag problems with incorrectly named attributes **before** you run the code. Also, it's actually very easy to convert a data class to a dictionary, and a dictionary with properly named keys to a data class.\n",
    "\n",
    "To convert a data class to a dictionary, we just call the data class's `.asdict()` method:"
   ]
  },
  {
   "cell_type": "code",
   "execution_count": 216,
   "metadata": {},
   "outputs": [
    {
     "name": "stdout",
     "output_type": "stream",
     "text": [
      "{'my_string': 'hi!', 'my_int': 42, 'my_float': 4.2}\n"
     ]
    }
   ],
   "source": [
    "# Your code here\n",
    "my_data_dictionary = dataclasses.asdict(my_simple_data_object)\n",
    "\n",
    "print(my_data_dictionary)"
   ]
  },
  {
   "cell_type": "markdown",
   "metadata": {},
   "source": [
    "To convert a dictionary to a data class, you **must** have all the required attributes, with the correct names. Then, you can use a trick in Python that leys you convert a dictionary to Python keyword arguments:\n",
    "```python\n",
    "\n",
    "my_dataclass_instance = MyDataClass(**my_dict)\n",
    "\n",
    "```\n",
    "\n",
    "The important thing here is to remember to put the two asterisks (`**`) before the dictionary name. This converts a dictionary into keyword arguments. (For completeness, if you use a single asterisk before a list or a tuple, that converts your object to positional arguments. Try it! It's fun!)\n",
    "\n",
    "Let's see an example:"
   ]
  },
  {
   "cell_type": "code",
   "execution_count": 217,
   "metadata": {},
   "outputs": [
    {
     "name": "stdout",
     "output_type": "stream",
     "text": [
      "MyDataClass(my_string='hi!', my_int=42, my_float=4.2)\n"
     ]
    }
   ],
   "source": [
    "# Your code here\n",
    "\n",
    "my_new_data_object = MyDataClass(**my_data_dictionary)\n",
    "\n",
    "print(my_new_data_object)"
   ]
  },
  {
   "cell_type": "markdown",
   "metadata": {},
   "source": [
    "Hopefully, by now I've convinced you that data classes are worth using. Again, **not every class should be a data class**, especially if you need to do additional processing when initialising the class."
   ]
  },
  {
   "cell_type": "markdown",
   "metadata": {},
   "source": [
    "### Classes - Hands-on Activity II: Data Classes\n",
    "\n",
    "We've now reached the end of our material on data classes, so let's do a hands-on example. Let's rewrite our DNA sequence class to be a data class."
   ]
  },
  {
   "cell_type": "code",
   "execution_count": 218,
   "metadata": {},
   "outputs": [],
   "source": [
    "# Your code here\n",
    "\n",
    "import dataclasses\n",
    "\n",
    "@dataclasses.dataclass\n",
    "class DnaSequence:\n",
    "    \"\"\"\n",
    "    DNA Sequence\n",
    "\n",
    "    Data class representing a DNA sequence.\n",
    "\n",
    "    Attributes:\n",
    "        - dna_sequence: string of nucleotides.\n",
    "        - sequence_name: name from FASTA file.\n",
    "\n",
    "    Methods:\n",
    "        - transcribe: transcribe DNA to mRNA\n",
    "    \"\"\"\n",
    "\n",
    "    dna_sequence: str\n",
    "    sequence_name: str\n",
    "\n",
    "    def transcribe(self, is_template_strand: bool = True) -> RnaSequence:\n",
    "        \"\"\"\n",
    "        Transcribe DNA to mRNA.\n",
    "\n",
    "        ...\n",
    "        \"\"\"\n",
    "        \n",
    "        if is_template_strand:\n",
    "            m_rna_sequence = \"\"\n",
    "\n",
    "            for nt in self.dna_sequence:\n",
    "                if nt == \"A\":\n",
    "                    m_rna_sequence += \"U\"\n",
    "                elif nt == \"T\":\n",
    "                    m_rna_sequence += \"A\"\n",
    "                elif nt == \"C\":\n",
    "                    m_rna_sequence += \"G\"\n",
    "                else:\n",
    "                    m_rna_sequence += \"C\"\n",
    "        else:\n",
    "            m_rna_sequence = self.dna_sequence.replace(\"T\", \"U\")\n",
    "\n",
    "        return RnaSequence(m_rna_sequence)\n",
    "\n",
    "    "
   ]
  },
  {
   "cell_type": "code",
   "execution_count": 219,
   "metadata": {},
   "outputs": [
    {
     "name": "stdout",
     "output_type": "stream",
     "text": [
      "DnaSequence(dna_sequence='TGTATGGGGGCACGCGCGCTGAGTCGCAGCGGGCCCTTGATGTCCCGCGATGCCCTCCCCGAAGTCCTGAGGTGGCCGCGTGCAATACCCCTTGCGACGCCACTATGCTGTGCAGGCACGGCGCGGGGTCGCGCAGCGCGCGGTTGCTGCGGGCGCGGAATTCTCCCGCGGCCTAAGCCAGGGTCGCTCTACTCATGTACGGGGTGTCGAAGCCCGTACGTCCGCTTGCGCACGGACAACACGGCGTGCGGGCCTGGACCGTTGCCCAAACCCACGGCGCCTGCGTATGCCGCGGGCTACCGGCATGGTGCGCCCCACCCTGCGGACCCCCATGAGGGTTCTCCGGTCCGCCAAAGACACATGGTGCCCGACGGACCCCTCCCCATAAGCTCTACCTGACTGCTTAGTGGAGCCCCTGTGCGTCGCAGGGTAGGCCGACTTCGATGATGAGCGGTGCGCCTGTCGCCCCGTAGTGCCCGCCCCAGGGGCGCCAAACCAGACTCTGGACCGATAGAGAGTAGCCGACTGTAACGCCGTGGGAGAGGCTTGCCGAATCAACGGATCCACGGCTCCAGACTGCCGTGGGCGTTGACCCCGGGCGGACCACGGCCCGGCAATGGACTTTTCTTTCACCGTGAACAAATGAGACTCAGCCGAGCCCAGGTAGAGAGACCATGGCGTGTTCGAGACGGTCTGCGTGGCTAGTTACAACTGTGGCGGGGATGTCCGGCGGCTCAACACACCCGGCCAGATCTGGAAGTCCATCCGCGTCGGTGCCCGGTTTGTACTGGCCTGCGCCATCAGTAGTGTCATCGGGCCTAGGTATTGGATCTTGGTGAAGGAGGCCATAACCCCGCGGGCGGCAGCAATACAGCGGCCCATAAACCTCCCGTCTCCGCGGCCTTAGACCGCGGGCCCCGAATGACGCCAGGGCCTAGCGCCGCGGGCCCGCCACTCGGGGCCCCTACGCACTGACACGCACGTGGTCCCTCCGATCCTC', sequence_name='my_seq')\n",
      "RNA sequence of 1000 nucleotides\n",
      "MGNAAVIRHVRAAPQRVARQRRPRLKRAPDSVPAR\n"
     ]
    }
   ],
   "source": [
    "my_dna_sequence = DnaSequence(template_strand, \"my_seq\")\n",
    "\n",
    "print(my_dna_sequence)\n",
    "\n",
    "my_rna_sequence = my_dna_sequence.transcribe(is_template_strand=True)\n",
    "\n",
    "print(my_rna_sequence)\n",
    "\n",
    "my_protein = my_rna_sequence.translate()\n",
    "\n",
    "print(my_protein)"
   ]
  },
  {
   "cell_type": "markdown",
   "metadata": {},
   "source": [
    "## Module Summary\n",
    "\n",
    "Congratulations! We've reached the end of another module. In this module, we learned:\n",
    "\n",
    "* That **objects** are groups of information (*attributes*) and functionality (*methods*) contained together.\n",
    "* **Classes** are *templates* for creating new objects of a certain type. We set the class *attributes* in the *initialiser* `__init__` method when creating the class, and we define methods just like normal functions, except that the first parameter is `self`.\n",
    "* `self` is a special variable that refers to the object that the method is being called on.\n",
    "* When creating classes that are designed mainly to hold data, and don't need a complicated initialiser, we can create **data classes** to use less code.\n",
    "* We can use **docstrings** and **type hints** to make our class, attributes and methods easier to understand."
   ]
  },
  {
   "cell_type": "markdown",
   "metadata": {},
   "source": [
    "Here's a useful example we did in the live session to explain where classes and objects can be helpful. Let's say we want to represent a circle. Well, the important number we need is the radius. If we want to find the area and circumference, we could just write functions that take in a radius and return the answer, but writing a class makes our code much more organised. Instead of just looking at numbers, we can think of `Circle`s. This will make our code easier to understand."
   ]
  },
  {
   "cell_type": "code",
   "execution_count": 220,
   "metadata": {},
   "outputs": [
    {
     "name": "stdout",
     "output_type": "stream",
     "text": [
      "The area of my circle is 28.274333882308138\n",
      "The circumference of my circle is 18.84955592153876\n",
      "{'area': 28.274333882308138, 'circumference': 18.84955592153876}\n"
     ]
    }
   ],
   "source": [
    "# Here's another example that we did in the live session about why it's helpful to create classes and objects.\n",
    "\n",
    "from math import pi\n",
    "\n",
    "class Circle:\n",
    "    \"\"\"\n",
    "    Simple Circle\n",
    "\n",
    "    This class represents a circle with a specified radius.\n",
    "    \"\"\"\n",
    "\n",
    "    def __init__(self, radius: float):\n",
    "        self.radius = radius\n",
    "\n",
    "    def compute_area(self) -> float:\n",
    "        return pi * self.radius * self.radius\n",
    "    \n",
    "    def compute_circumference(self) -> float:\n",
    "        return 2 * pi * self.radius\n",
    "    \n",
    "    def get_geometric_description(self) -> dict[str, float]:\n",
    "        my_area = self.compute_area()\n",
    "        my_circumference = self.compute_circumference()\n",
    "\n",
    "        return {\n",
    "            \"area\": my_area,\n",
    "            \"circumference\": my_circumference\n",
    "        }\n",
    "    \n",
    "my_circle = Circle(3)\n",
    "\n",
    "print(f\"The area of my circle is {my_circle.compute_area()}\")\n",
    "print(f\"The circumference of my circle is {my_circle.compute_circumference()}\")\n",
    "\n",
    "print(my_circle.get_geometric_description())"
   ]
  },
  {
   "cell_type": "markdown",
   "metadata": {},
   "source": [
    "# Module 3 - Packages\n",
    "\n",
    "So far, we've seen how to write **functions** and how to define **classes**. These two concepts help us write simple, smarter code more efficiently. But, sometimes we want to perform more complicated tasks. Instead of re-inventing the wheel, we can take advantage of **packages**. These **packages** contain code *modules* written by other people that we can easily use in our own code. Each module typically corresponds to a Python file, which we can load in its entirety, or from which we can load specific classes and/or functions.\n",
    "\n",
    "## Intro to Packages\n",
    "\n",
    "Python has a **massive** amount of packages available to accomplish all sorts of different tasks. There are Python packages for performing mathematical and scientific computations, making nice plots, doing machine learning, analysing images, designing user interfaces and more!\n",
    "\n",
    "### The Python Standard Library\n",
    "\n",
    "Before installing packages, let's actually talk about the modules that come *built-in* with Python. Python has a lot of functionality built-in, but much of it is found in different modules. These form the **Python Standard Library**. Examples of modules found here are:\n",
    "\n",
    "* `random` - dealing with random numbers.\n",
    "* `os` - interacting with the operating system. We'll see this more later.\n",
    "* `shutil` - moving and copying files. Again more later.\n",
    "* `math` - basic mathematical operations (including trigonometry and factorial).\n",
    "\n",
    "To use these modules, you don't need to install anything new. All the information about them is found online in the Python [online documentation](https://docs.python.org/3/library/index.html).\n",
    "\n",
    "### External Packages\n",
    "\n",
    "In addition to everything we can do in the standard library, there are also tons of external packages that can be installed to add extra functionality. Here are a few of the common packages:\n",
    "\n",
    "* NumPy - numeric and mathematical operations, matrix calculations.\n",
    "* SciPy - scientific operations.\n",
    "* Matplotlib - data visualisation and plotting.\n",
    "* Scikit Learn - Data science and machine learning.\n",
    "* Scikit Image - Image processing tools.\n",
    "\n",
    "There are a bunch of others!\n",
    "\n",
    "Now, let's talk about how to install these packages. These packages are pretty standard. So, if you installed Anaconda, these actually came with your installation.\n",
    "\n",
    "If you didn't install Anaconda, don't worry! It's very easy to install packages.\n",
    "\n",
    "## Installing Packages\n",
    "\n",
    "Installing packages in Python is easy! Let's go over the main steps.\n",
    "\n",
    "### Finding Packages Online\n",
    "\n",
    "Well, before installing packages, first you need to find them. There are many different ways of finding Python packages. You can easily search on Google to find a package. Alternatively, you can search on GitHub. Or, you can search for packages on a dedicated Python package database. There are two major databases online: the official **Python Packaging Index (PyPI)** and the **Anaconda** repository. You can search each online to find a specific package. \n",
    "\n",
    "Let's start with an example using PyPI: https://pypi.org/\n",
    "\n",
    "Now, let's look at Anaconda: https://anaconda.org/\n",
    "\n",
    "*Note:* This is anaconda.**org** not anaconda.**com**.\n",
    "\n",
    "### Installing Packages\n",
    "\n",
    "These two repositories offer very easy ways to install packages. Each repository has its own tool:\n",
    "\n",
    "* To install packages from PyPI, we use `pip`.\n",
    "* To install packages from Anaconda, we use `conda`.\n",
    "\n",
    "We'll see how to use each in more detail.\n",
    "\n"
   ]
  },
  {
   "cell_type": "markdown",
   "metadata": {},
   "source": [
    "### Creating a Virtual Environment\n",
    "\n",
    "Before we discuss how to install packages, we need to discuss Python environments. Often, you may find yourself working on multiple projects at the same time. Each may have similar packages installed, but due to complicated webs of dependencies, you may need different package versions for different projects. This is a problem! In your Python environment, you can only have **one version** installed. To get around this issue, we can create **virtual environments**.\n",
    "\n",
    "A **virtual environment** is an environment that provides its own Python interpreter and its own packages, separate from your main Python installation.This lets you have your own set of packages, and in some cases even a different version of Python.\n",
    "\n",
    "One easy way to create a new virtual environment is using `virtualenv`. To create a virtual environment, we use the **terminal** NOT the Python interpreter. At the prompt ($ or % on macOS and Linux, > on Windows), we run the following code:\n",
    "\n",
    "```bash\n",
    "\n",
    "    virtualenv environment_name\n",
    "\n",
    "```\n",
    "\n",
    "This will create a new virtual Python environment called `environment_name`. If you look in the folder using `ls`, you'll see a new folder with the same name as the environment. To **activate** this environment on the command line, you must run:\n",
    "\n",
    "* On macOS or Linux: `source environment_name/bin/activate`.\n",
    "* On Windows, using Powershell: `environment_name/bin/activate.ps1`\n",
    "\n",
    "On macOS and Linux, the name of the environment will appear in parentheses before the command line prompt when the environment is active. Once this environment is active, any packages you install will **only live in this environment**. So, you can install specific versions and they **will not** affect your bigger Python installation. To **leave** the virtual environment, simply type `deactivate` on the command line.\n",
    "\n",
    "You can also use the `venv` tool to create virtual environments (see [here](https://docs.python.org/3/library/venv.html)).\n",
    "\n",
    "When working with virtual environments, **make sure to also configure your code editor** to respond to the virtual environment.\n",
    "\n",
    "Using `conda`, we can also create new Python environments. To create a new `conda` environment called `new_env`, type this:\n",
    "```bash\n",
    "    conda env create --name new_env\n",
    "```\n",
    "\n",
    "To activate this new environment, you would type:\n",
    "```bash\n",
    "    conda activate new_env\n",
    "```\n",
    "\n",
    "To deactivate the environment, simply type `conda deactivate`.\n",
    "\n",
    "Now that we've seen how to create environments, let's discuss how to install packages.\n",
    "\n",
    "### Installing Packages using `pip`\n",
    "\n",
    "Let's start with `pip`. `pip` is typically available regardless of how you've installed Python.\n",
    "\n",
    "To install packages using `pip`, you must open the **command line**, NOT a Python interpreter. At the prompt, you write:\n",
    "```bash\n",
    "    pip install package_name\n",
    "```\n",
    "\n",
    "**Note:** `pip` should come with just about any installation of Python. If you didn't install Anaconda, things may get a bit messy. There are two major versions of Python in use: 2.7 and 3.*. On some operating systems, typing in `python` or `pip` on the command line use Python 2, while you must use `python3` or `pip3` to use the more updated and supported version of Python. When you install Anaconda, you no longer need to deal with this issue.\n",
    "\n",
    "Now, let's say you're doing research and you have all your packages installed and you want someone to be able to reproduce your environment with the exact same versions. We can do this easily using `pip`. The package information is stored in a **requirements** file, commonly called `requirements.txt`. To create this file, at the command line, you use `pip freeze`:\n",
    "\n",
    "```bash\n",
    "    pip freeze > requirements.txt\n",
    "```\n",
    "\n",
    "Then, on another computer, if you want to install all these packages, you just write:\n",
    "```bash\n",
    "    pip install -r requirements.txt\n",
    "```\n",
    "\n",
    "This way, you have a nice, easily reproducible environment."
   ]
  },
  {
   "cell_type": "markdown",
   "metadata": {},
   "source": [
    "### Installing Packages using `conda`\n",
    "\n",
    "Note: you only have `conda` available if you've installed Anaconda or Miniconda. To install packages using `conda`, you can either use the graphical **Anaconda Navigator** or use the command line.\n",
    "\n",
    "In the **Anaconda Navigator**, click on the **Environments** tab. Then, you can select a specific environment and search for packages.\n",
    "\n",
    "To install a package using `conda` at the **command prompt** in a terminal, **NOT IN A PYTHON SHELL**, you would write:\n",
    "\n",
    "```bash\n",
    "conda install package_name\n",
    "```\n",
    "\n",
    "Press enter, wait for it to prompt you, type `y` and hit enter again to install! If you don't want to be prompted, then you can just add `-y` to the command so that it automatically answers \"yes\" to the prompt for installation.\n",
    "\n",
    "Sometimes, the package that you want isn't available in the main channel, so you may have to specify an additional option (see [here](https://docs.conda.io/projects/conda/en/latest/commands/install.html) for more details). For example, packages may come from `conda-forge`, so you would have to specify:\n",
    "```bash\n",
    "conda install -c conda-forge package_name\n",
    "```\n",
    "\n",
    "You can also add additional channels, such as [**bioconda**](https://bioconda.github.io/).\n",
    "\n",
    "**Note:** On Windows and macOS, if you installed Anaconda, you can perform package management graphically using the \"Anaconda Navigator\". Also, on Windows, if you are installing packages from the command line, make sure you open the **Anaconda Prompt** from the Start Menu and you **don't** just go in through `cmd` or PowerShell. On Linux, you may need to install the `anaconda-navigator` package to be able to graphically install packages.\n",
    "\n",
    "For reproducibility, you can also export your `conda` environment to a file. This will let other users recreate your setup. The process is discussed briefly in the `conda` documentation [here](https://conda.io/projects/conda/en/latest/user-guide/tasks/manage-environments.html).\n",
    "\n",
    "At the command prompt (with you `conda` environment active), type the following (after the dollar sign):\n",
    "\n",
    "```bash\n",
    "    conda env export -f requirements.txt\n",
    "```\n",
    "\n",
    "To create a new `conda` environment called `new_env` based on the file, type this:\n",
    "```bash\n",
    "    conda env create --file requirements.txt --name new_env\n",
    "```\n",
    "\n",
    "To activate this new environment, you would type:\n",
    "```bash\n",
    "    conda activate new_env\n",
    "```\n",
    "\n",
    "Environments help you keep multiple versions of Python (and versions of packages) separate.\n",
    "\n",
    "If you have both `conda` and `pip` installed, the `conda` [documentation](https://conda.io/projects/conda/en/latest/user-guide/tasks/manage-environments.html) recommends trying to install packages with `conda` first.\n",
    "\n",
    "### Other Installation Tips\n",
    "\n",
    "Most packages give you information in the **documentation** about how to install them. For example, NumPy provides the following [page](https://numpy.org/install/). Matplotlib provides [this page](https://matplotlib.org/stable/users/getting_started/index.html#installation-quick-start). Another interesting example in CuPy, which allows performing NumPy and SciPy operations of the GPU. This package **does not** work on all systems. It requires an NVIDIA GPU and CUDA, which is not available on macOS. In these cases, it's very important to read the [installation instructions](https://docs.cupy.dev/en/stable/install.html).\n",
    "\n",
    "### Reading Documentation\n",
    "\n",
    "When in doubt, **consult the documentation!** The documentation usually provides instructions on installation, but also basic usage and it often has a collection of all the docstrings so that you can understand what all the function, classes and methods. For example, let's look at [NumPy](https://numpy.org)."
   ]
  },
  {
   "cell_type": "markdown",
   "metadata": {},
   "source": [
    "## Using Packages\n",
    "\n",
    "Now that we've installed packages, we need to use them. We'll discuss how to load a module using `import`. Then, we'll also look specifically at using the NumPy package for performing array operations and data processing.\n",
    "\n",
    "### Importing Packages\n",
    "\n",
    "To import a package into a Python script, we use the `import` keyword, followed by the name of the module we are importing. **This is the same regardless of whether the package is in the standard library or has been installed separately.** To access functions or variables (actually more like \"constants\" here) from the imported module, we use the same dot notation from object-oriented programming.\n",
    "\n",
    "**Note:** For people coming from Java, or any other extremely object-oriented programming language, although we use dot notation, the imported module is **not** a class.\n",
    "\n",
    "Let's do a simple example using the `math` module from the standard library."
   ]
  },
  {
   "cell_type": "code",
   "execution_count": 221,
   "metadata": {},
   "outputs": [
    {
     "data": {
      "text/plain": [
       "5040"
      ]
     },
     "execution_count": 221,
     "metadata": {},
     "output_type": "execute_result"
    }
   ],
   "source": [
    "# Your code here\n",
    "\n",
    "import math\n",
    "\n",
    "math.factorial(7)"
   ]
  },
  {
   "cell_type": "markdown",
   "metadata": {},
   "source": [
    "When importing a package, we can also give it a new name. This is helpful if the package name is long (or even if it's short but we use it a ton), or if we run the risk of having multiple modules with the same name. To do this renaming, we simply add `as` after the module name, then the new name:\n",
    "\n",
    "```python\n",
    "import module as m\n",
    "```\n",
    "\n",
    "A very popular example is when using the NumPy package, which is commonly abbreviated `np`:"
   ]
  },
  {
   "cell_type": "code",
   "execution_count": 222,
   "metadata": {},
   "outputs": [
    {
     "data": {
      "text/plain": [
       "6.123233995736766e-17"
      ]
     },
     "execution_count": 222,
     "metadata": {},
     "output_type": "execute_result"
    }
   ],
   "source": [
    "# Your code here\n",
    "\n",
    "import numpy as np\n",
    "\n",
    "np.cos(np.pi / 2)"
   ]
  },
  {
   "cell_type": "markdown",
   "metadata": {},
   "source": [
    "Python packages can often have multiple folders and hierarchies. To import modules in a subfolder, we use dot syntax. A popular example is Matplotlib for creating graphs:"
   ]
  },
  {
   "cell_type": "code",
   "execution_count": 223,
   "metadata": {},
   "outputs": [
    {
     "data": {
      "text/plain": [
       "<Figure size 640x480 with 0 Axes>"
      ]
     },
     "execution_count": 223,
     "metadata": {},
     "output_type": "execute_result"
    },
    {
     "data": {
      "text/plain": [
       "<Figure size 640x480 with 0 Axes>"
      ]
     },
     "metadata": {},
     "output_type": "display_data"
    }
   ],
   "source": [
    "# Your code here\n",
    "\n",
    "import matplotlib.pyplot as plt\n",
    "\n",
    "plt.figure()"
   ]
  },
  {
   "cell_type": "markdown",
   "metadata": {},
   "source": [
    "We can also import specific classes and functions from a module. To do this, we write:\n",
    "```python\n",
    "\n",
    "from module_name import ClassName, function_name\n",
    "\n",
    "```\n",
    "\n",
    "Then, you can use the class or call the function without using the dot notation. Instead, we can call the function as we would any other function we had defined.\n",
    "\n",
    "Let's see an example from the `math` module:"
   ]
  },
  {
   "cell_type": "code",
   "execution_count": 224,
   "metadata": {},
   "outputs": [
    {
     "data": {
      "text/plain": [
       "5040"
      ]
     },
     "execution_count": 224,
     "metadata": {},
     "output_type": "execute_result"
    }
   ],
   "source": [
    "# Your code here\n",
    "\n",
    "from math import factorial\n",
    "\n",
    "factorial(7)"
   ]
  },
  {
   "cell_type": "markdown",
   "metadata": {},
   "source": [
    "### Using NumPy\n",
    "\n",
    "For a specific example of using a package, let's learn a bit about NumPy.\n",
    "\n",
    "NumPy provides important mathematical tools for operations on arrays. It simplifies performing bulk calculations.\n",
    "\n",
    "You may be wondering: If I have lists, why bother with arrays? Can't I do everything with lists and nested lists?\n",
    "\n",
    "Well, to do operations on lists, you need to use `for` loops. If you want to do operations on nested lists, (essentially 2D lists), you have to nest the `for` loops. That starts to get messy to write... and it also becomes very inefficient to run.\n",
    "\n",
    "So, given these difficulties, it is **definitely** worth the time investment to learn NumPy.\n",
    "\n",
    "#### NumPy Fundamentals\n",
    "\n",
    "The most important object is NumPy is the **array**. Very important: **Arrays are *not* lists**. Here are the important differences:\n",
    "\n",
    "* NumPy arrays have a **fixed** size. You **cannot** add new elements to an array.\n",
    "* NumPy arrays can easily have more than one dimension. For example, an array can be 2D (to represent a table or an image), or even higher dimensional. The dimensions are represented as a tuple. The length of this tuple is the number of dimensions, while each element in the tuple indicates the size of the array along that axis.\n",
    "* All elements in a NumPy array have the same type.\n",
    "* NumPy includes functions that perform mathematical operations on entire arrays without needing to perform iteration.\n",
    "\n",
    "Let's see some of the basics of using NumPy arrays.\n",
    "\n",
    "#### Creating NumPy Arrays\n",
    "\n",
    "There are a number of different ways of creating a NumPy array. We can create an array based on nested lists using the `np.array` function. Here's an example:"
   ]
  },
  {
   "cell_type": "code",
   "execution_count": 226,
   "metadata": {},
   "outputs": [
    {
     "name": "stdout",
     "output_type": "stream",
     "text": [
      "[[2 6]\n",
      " [4 8]]\n"
     ]
    }
   ],
   "source": [
    "# Your code here\n",
    "\n",
    "my_arr = np.array([\n",
    "    [2, 6], [4, 8]\n",
    "])\n",
    "\n",
    "print(my_arr)"
   ]
  },
  {
   "cell_type": "markdown",
   "metadata": {},
   "source": [
    "Note that the lists need to line up properly. In an array, all rows **must** have the same number of elements (the same with columns and any other dimension). If the nested list sizes don't line up properly, you won't get the array you were expecting.\n",
    "\n",
    "There are a couple of helpful functions for creating arrays of a specific size. These are `np.zeros` and `np.ones`. They each take as argument the size of the desired array in the form of a tuple.\n",
    "\n",
    "Let's see some examples:"
   ]
  },
  {
   "cell_type": "code",
   "execution_count": 235,
   "metadata": {},
   "outputs": [
    {
     "name": "stdout",
     "output_type": "stream",
     "text": [
      "My Zeros, with shape (4, 5)\n",
      "[[0. 0. 0. 0. 0.]\n",
      " [0. 0. 0. 0. 0.]\n",
      " [0. 0. 0. 0. 0.]\n",
      " [0. 0. 0. 0. 0.]]\n",
      "\n",
      "\n",
      "My Ones, with shape (2, 3, 4)\n",
      "[[[1. 1. 1. 1.]\n",
      "  [1. 1. 1. 1.]\n",
      "  [1. 1. 1. 1.]]\n",
      "\n",
      " [[1. 1. 1. 1.]\n",
      "  [1. 1. 1. 1.]\n",
      "  [1. 1. 1. 1.]]]\n"
     ]
    }
   ],
   "source": [
    "# Your code here\n",
    "\n",
    "my_zeros = np.zeros((4,5)) # Number of rows, number of columns\n",
    "my_ones = np.ones((2, 3, 4))\n",
    "\n",
    "print(f\"My Zeros, with shape {my_zeros.shape}\")\n",
    "print(my_zeros)\n",
    "\n",
    "print(\"\\n\")\n",
    "\n",
    "print(f\"My Ones, with shape {my_ones.shape}\")\n",
    "print(my_ones)"
   ]
  },
  {
   "cell_type": "markdown",
   "metadata": {},
   "source": [
    "There's another easy way to create a 1D array. Using `np.arange`, we can create simple arrays of numbers separated by a consistent step size. There are different ways of using the function:\n",
    "```python\n",
    "\n",
    "np.arange(a) # Array contains all integers from zero up to and excluding a.\n",
    "np.arange(a, b) # Array contains all numbers from a (inclusive) to b (exclusive).\n",
    "np.arange(a, b, c) # Array contains all numbers from a (inclusive) to b (exclusive) incrementing by c.\n",
    "\n",
    "```\n",
    "\n",
    "**Note:** for the second two, the arguments don't have to be integers.\n",
    "\n",
    "Let's see a few examples."
   ]
  },
  {
   "cell_type": "code",
   "execution_count": 236,
   "metadata": {},
   "outputs": [
    {
     "name": "stdout",
     "output_type": "stream",
     "text": [
      "[0 1 2 3 4]\n",
      "[3 4 5 6]\n",
      "[-1 -3 -5]\n"
     ]
    }
   ],
   "source": [
    "# Your code here\n",
    "\n",
    "my_first_range = np.arange(5)\n",
    "print(my_first_range)\n",
    "\n",
    "my_second_range = np.arange(3, 7)\n",
    "print(my_second_range)\n",
    "\n",
    "my_third_range = np.arange(-1, -6, -2)\n",
    "print(my_third_range)"
   ]
  },
  {
   "cell_type": "markdown",
   "metadata": {},
   "source": [
    "We can check the dimensions, or shape, of an array using the `shape` attribute of the array."
   ]
  },
  {
   "cell_type": "code",
   "execution_count": 237,
   "metadata": {},
   "outputs": [
    {
     "name": "stdout",
     "output_type": "stream",
     "text": [
      "My third range has shape (3,)\n"
     ]
    }
   ],
   "source": [
    "# Your code here\n",
    "\n",
    "print(f\"My third range has shape {my_third_range.shape}\")"
   ]
  },
  {
   "cell_type": "markdown",
   "metadata": {},
   "source": [
    "But, wait! This only returns a 1D array! What if we don't want only a one-dimensional array?\n",
    "\n",
    "Introducing the `reshape` method. We can take an array and reshape it to match desired dimensions. As argument, we pass a tuple with the desired dimensions.\n",
    "\n",
    "**Note:** the dimensions must be compatible with the number of elements in the array. If you know all the dimensions except one, you can set a dimension size as `-1` and Python will infer that dimension.\n",
    "\n",
    "Let's see some examples:"
   ]
  },
  {
   "cell_type": "code",
   "execution_count": 240,
   "metadata": {},
   "outputs": [
    {
     "name": "stdout",
     "output_type": "stream",
     "text": [
      "[[ 0  1  2  3  4  5]\n",
      " [ 6  7  8  9 10 11]\n",
      " [12 13 14 15 16 17]\n",
      " [18 19 20 21 22 23]\n",
      " [24 25 26 27 28 29]]\n",
      "(5, 6)\n"
     ]
    }
   ],
   "source": [
    "# Your code here\n",
    "\n",
    "# Let's make a sequence of 30 integers.\n",
    "my_arr = np.arange(30)\n",
    "\n",
    "# Now, let's rearrange the array to have 5 rows.\n",
    "my_reshaped_arr = my_arr.reshape(5, -1)\n",
    "\n",
    "print(my_reshaped_arr)\n",
    "\n",
    "# By setting the second number as -1, we tell NumPy to figure out the missing dimension\n",
    "print(my_reshaped_arr.shape)"
   ]
  },
  {
   "cell_type": "markdown",
   "metadata": {},
   "source": [
    "### Array Operations\n",
    "\n",
    "Now that we know how to *create* arrays, we can think about operations that we can perform with them.\n",
    "\n",
    "#### Basic Mathematical Operations\n",
    "\n",
    "We can perform *mathematical operations* with arrays in the same way that we would with numbers:\n",
    "\n",
    "* `+` - addition of two arrays, element-wise.\n",
    "* `-` - subtraction of two arrays, element-wise.\n",
    "* `*` - **element-wise** multiplication of two arrays.\n",
    "* `/` - division of two arrays, element-wise.\n",
    "* `**` - **element-wise** exponentiation of arrays.\n",
    "* `%` - modulo of two arrays, element-wise.\n",
    "* `//` - integer division (floor division) of two arrays, element-wise.\n",
    "\n",
    "Again, note that these operations are all **element-wise**. To perform these operations, the arrays must have *compatible shapes*. Here are some of the rules of working with different array shapes:\n",
    "\n",
    "* The two arrays can have the *exact same shape*, in which case the operation works directly.\n",
    "* One of the operands can simply be a `float` or an `int`, in which case, the operation is performed with each element in the operand which is an array.\n",
    "* We can *broadcast* the shapes together. This process is described extensively in the [documentation](https://numpy.org/doc/stable/user/basics.broadcasting.html). Basically, one of the key ideas is making sure that, working from the **last** dimension to the first for each, the respective dimensions are either **equal** or **one of them is one**. We won't see too many examples of this, but I encourage you to look at the documentation.\n",
    "\n",
    "Let's do a few examples of basic array operations:"
   ]
  },
  {
   "cell_type": "code",
   "execution_count": 249,
   "metadata": {},
   "outputs": [
    {
     "name": "stdout",
     "output_type": "stream",
     "text": [
      "[[ 0  1  2  3  4  5]\n",
      " [ 6  7  8  9 10 11]\n",
      " [12 13 14 15 16 17]\n",
      " [18 19 20 21 22 23]\n",
      " [24 25 26 27 28 29]]\n",
      "\n",
      "[[1.]\n",
      " [1.]\n",
      " [1.]\n",
      " [1.]\n",
      " [1.]]\n",
      "\n",
      "[[225 196 169 144 121 100]\n",
      " [ 81  64  49  36  25  16]\n",
      " [  9   4   1   0   1   4]\n",
      " [  9  16  25  36  49  64]\n",
      " [ 81 100 121 144 169 196]]\n",
      "\n",
      "[[225 197 171 147 125 105]\n",
      " [ 87  71  57  45  35  27]\n",
      " [ 21  17  15  15  17  21]\n",
      " [ 27  35  45  57  71  87]\n",
      " [105 125 147 171 197 225]]\n",
      "\n",
      "[[225 195 167 141 117  95]\n",
      " [ 75  57  41  27  15   5]\n",
      " [ -3  -9 -13 -15 -15 -13]\n",
      " [ -9  -3   5  15  27  41]\n",
      " [ 57  75  95 117 141 167]]\n",
      "\n",
      "[[-1.  0.  1.  2.  3.  4.]\n",
      " [ 5.  6.  7.  8.  9. 10.]\n",
      " [11. 12. 13. 14. 15. 16.]\n",
      " [17. 18. 19. 20. 21. 22.]\n",
      " [23. 24. 25. 26. 27. 28.]]\n"
     ]
    }
   ],
   "source": [
    "# Your code here.\n",
    "\n",
    "my_arr = np.arange(30).reshape(5, -1)\n",
    "\n",
    "print(my_arr)\n",
    "print(\"\")\n",
    "\n",
    "my_one_column = np.ones((5, 1))\n",
    "\n",
    "print(my_one_column)\n",
    "print(\"\")\n",
    "\n",
    "my_other_arr = (np.arange(30).reshape(5, -1) - 15) ** 2\n",
    "\n",
    "print(my_other_arr)\n",
    "print(\"\")\n",
    "\n",
    "print(my_arr + my_other_arr)\n",
    "print(\"\")\n",
    "\n",
    "print(my_other_arr - my_arr)\n",
    "print(\"\")\n",
    "\n",
    "print(my_arr - my_one_column)"
   ]
  },
  {
   "cell_type": "markdown",
   "metadata": {},
   "source": [
    "#### Advanced Mathematical Operations\n",
    "\n",
    "In addition to the basic mathematical operations we've seen before, there are new operations we can perform.\n",
    "\n",
    "One of the most important ones is **matrix multiplication**. We can perform matrix multiplication using the `@` operator between two arrays. Let's see an example:"
   ]
  },
  {
   "cell_type": "code",
   "execution_count": 250,
   "metadata": {},
   "outputs": [
    {
     "name": "stdout",
     "output_type": "stream",
     "text": [
      "My matrix product is:\n",
      "[[11]\n",
      " [24]\n",
      " [ 3]]\n"
     ]
    }
   ],
   "source": [
    "# Your code here.\n",
    "\n",
    "my_matrix = np.array([\n",
    "    [3, 2, 1],\n",
    "    [4, 6, 5],\n",
    "    [7, 0, 2]\n",
    "])\n",
    "\n",
    "my_column_vector = np.array([1, 5, -2]).reshape(3, 1)\n",
    "\n",
    "print(\"My matrix product is:\")\n",
    "\n",
    "print(my_matrix @ my_column_vector)"
   ]
  },
  {
   "cell_type": "markdown",
   "metadata": {},
   "source": [
    "There are other matrix and vector operations that we can perform, such as dot products. We won't see those here, but I encourage you to read up on them in the [documentation](https://numpy.org/doc/stable/reference/routines.linalg.html).\n",
    "\n",
    "We can also perform element-wise trigonometric functions, such as `cos` and `sin`. These exist as functions in the NumPy package. When we import NumPy, we can simply call these functions using the dot notation.\n",
    "\n",
    "There are also functions that allow us to learn more about the data represented in a NumPy array. Here are some of the methods we can call on arrays:\n",
    "\n",
    "* `sum` - compute the sum of elements.\n",
    "* `mean` - compute the mean of elements.\n",
    "* `var` - compute the variance of elements (by default, dividing by `n`, but you can specify to divide by `n-1`)\n",
    "*  `std` - compute the standard deviation of elements (square root of the variance).\n",
    "\n",
    "These functions can be called on either **all values** in an array, or all values **along a specific axis**. To specify the axis, we use the `axis` keyword argument. We can also use **negative indexing** for specifying the axis number. So, if we want to compute the variance of all elements, going along the last axis, we can write:\n",
    "\n",
    "```python\n",
    "\n",
    "my_variances = arr.var(axis=-1)\n",
    "\n",
    "```\n",
    "\n",
    "Let's see a few examples:"
   ]
  },
  {
   "cell_type": "code",
   "execution_count": 251,
   "metadata": {},
   "outputs": [
    {
     "name": "stdout",
     "output_type": "stream",
     "text": [
      "The sum of all entries is 35\n",
      "The sums of rows are [14  6 15]\n",
      "The sums of columns are [11 15  9]\n",
      "The mean of all entries is 3.888888888888889\n",
      "The means of rows are [4.66666667 2.         5.        ]\n",
      "The means of columns are [3.66666667 5.         3.        ]\n"
     ]
    }
   ],
   "source": [
    "# Your code here\n",
    "\n",
    "my_array = np.array([\n",
    "    [3, 5, 6],\n",
    "    [2, 3, 1],\n",
    "    [6, 7, 2]\n",
    "])\n",
    "\n",
    "print(f\"The sum of all entries is {my_array.sum()}\")\n",
    "print(f\"The sums of rows are {my_array.sum(axis=1)}\")\n",
    "print(f\"The sums of columns are {my_array.sum(axis=0)}\")\n",
    "\n",
    "\n",
    "print(f\"The mean of all entries is {my_array.mean()}\")\n",
    "print(f\"The means of rows are {my_array.mean(axis=1)}\")\n",
    "print(f\"The means of columns are {my_array.mean(axis=0)}\")"
   ]
  },
  {
   "cell_type": "markdown",
   "metadata": {},
   "source": [
    "### Array Indexing\n",
    "\n",
    "These operations are great for working with complete arrays. But, remember that for lists, tuples and dictionaries, it was very important to access subsets of elements. Well, we can also access sub-arrays using indexing.\n",
    "\n",
    "To index NumPy arrays, we can use square brackets `[]`. To index along multiple axes, we can use multiple numbers separated by commas. We can also index sub-ranges using colons `:`, similar to in lists.\n",
    "\n",
    "Let's see some examples:"
   ]
  },
  {
   "cell_type": "code",
   "execution_count": 258,
   "metadata": {},
   "outputs": [
    {
     "name": "stdout",
     "output_type": "stream",
     "text": [
      "My array:\n",
      "[[[ 0  1]\n",
      "  [ 2  3]\n",
      "  [ 4  5]\n",
      "  [ 6  7]\n",
      "  [ 8  9]]\n",
      "\n",
      " [[10 11]\n",
      "  [12 13]\n",
      "  [14 15]\n",
      "  [16 17]\n",
      "  [18 19]]\n",
      "\n",
      " [[20 21]\n",
      "  [22 23]\n",
      "  [24 25]\n",
      "  [26 27]\n",
      "  [28 29]]]\n",
      "\n",
      "\n",
      "My first sheet:\n",
      "[[0 1]\n",
      " [2 3]\n",
      " [4 5]\n",
      " [6 7]\n",
      " [8 9]]\n",
      "\n",
      "\n",
      "First respective columns:\n",
      "[[ 0  2  4  6  8]\n",
      " [10 12 14 16 18]\n",
      " [20 22 24 26 28]]\n",
      "\n",
      "\n",
      "Last row in sheet 2:\n",
      "[28 29]\n",
      "\n",
      "\n"
     ]
    }
   ],
   "source": [
    "# Your code here\n",
    "\n",
    "# Let's make a 3D array\n",
    "my_arr = np.arange(30).reshape(3, 5, 2)\n",
    "print(\"My array:\")\n",
    "print(my_arr)\n",
    "print(\"\\n\")\n",
    "\n",
    "# In 3D, let's think of the array indices as (sheets, rows, columns).\n",
    "\n",
    "my_first_sheet = my_arr[0]\n",
    "print(\"My first sheet:\")\n",
    "print(my_first_sheet)\n",
    "print(\"\\n\")\n",
    "\n",
    "my_first_columns = my_arr[:, :, 0]\n",
    "print(\"First respective columns:\")\n",
    "print(my_first_columns)\n",
    "print(\"\\n\")\n",
    "\n",
    "my_last_row_in_sheet_2 = my_arr[2, -1, :]\n",
    "print(\"Last row in sheet 2:\")\n",
    "print(my_last_row_in_sheet_2)\n",
    "print(\"\\n\")"
   ]
  },
  {
   "cell_type": "markdown",
   "metadata": {},
   "source": [
    "We can also use indexing in assignments, similar to with lists. Here are a few examples:"
   ]
  },
  {
   "cell_type": "code",
   "execution_count": 259,
   "metadata": {},
   "outputs": [
    {
     "name": "stdout",
     "output_type": "stream",
     "text": [
      "First change:\n",
      "[[[ 0  1]\n",
      "  [ 2  3]\n",
      "  [ 4  5]\n",
      "  [ 6  7]\n",
      "  [ 8  9]]\n",
      "\n",
      " [[10 11]\n",
      "  [12 13]\n",
      "  [14 15]\n",
      "  [16 17]\n",
      "  [18 19]]\n",
      "\n",
      " [[ 5 21]\n",
      "  [ 5 23]\n",
      "  [ 5 25]\n",
      "  [ 5 27]\n",
      "  [ 5 29]]]\n",
      "\n",
      "Second change:\n",
      "[[[ 4  4]\n",
      "  [ 2  3]\n",
      "  [ 4  5]\n",
      "  [ 6  7]\n",
      "  [ 8  9]]\n",
      "\n",
      " [[10 11]\n",
      "  [12 13]\n",
      "  [14 15]\n",
      "  [16 17]\n",
      "  [18 19]]\n",
      "\n",
      " [[ 5 21]\n",
      "  [ 5 23]\n",
      "  [ 5 25]\n",
      "  [ 5 27]\n",
      "  [ 5 29]]]\n"
     ]
    }
   ],
   "source": [
    "# Your code here\n",
    "\n",
    "# We can assign multiple values at once\n",
    "\n",
    "# Here, we're changing the firs column in all rows in the last sheet.\n",
    "print(\"First change:\")\n",
    "my_arr[-1, :, 0] = 5\n",
    "print(my_arr)\n",
    "\n",
    "# Now, in the first sheet, let's change the first row.\n",
    "print(\"\\nSecond change:\")\n",
    "my_arr[0, 0] = np.array([4, 4])\n",
    "print(my_arr)"
   ]
  },
  {
   "cell_type": "markdown",
   "metadata": {},
   "source": [
    "NumPy is a **huge** library. So, it's impossible to know and remember all the functions, their arguments, and all the details about them.\n",
    "\n",
    "Instead, it's better to become familiar with the **documentation**. It can be found on the NumPy website, at https://numpy.org/doc/stable/index.html. Let's look at the documentation for some of the functions we've discussed.\n",
    "\n",
    "The docs give detailed information about every class, function, constant and method available. There are instructions on how to use (and not use) everything. When in doubt, **check the documentation**. This should be your **first stop**. Unlike checking on Stack Overflow, the docs give you **official information** and **important guidance**. It's also important to remember that sometimes, just because code *works*, that doesn't mean the code is *right*. The documentation will help clear up any confusion."
   ]
  },
  {
   "cell_type": "markdown",
   "metadata": {},
   "source": [
    "## Packages - Hands-on Activity: DNA Sequence Statistics\n",
    "\n",
    "We've now reached the end of our module on packages. Let's now do a hands-on activity, using NumPy to compute basic statistics on DNA and protein sequences. \n",
    "\n",
    "Here's the problem: Let's say we have a collection of many DNA sequences of the **same length**. We want to determine the percentage of C and G at each position in each sequence, and then use this to determine the proportion of CG at each position and within each sequence.\n"
   ]
  },
  {
   "cell_type": "code",
   "execution_count": 262,
   "metadata": {},
   "outputs": [],
   "source": [
    "# Your code here.\n",
    "\n",
    "sequence1 = \"TCACGTTCCAACGCCTACGAATTTAACCGATTGATTTCTCGAAATATCCGTGAGGGTTCGAGCCCTACCAGCGAGCGCCACAATGACGTGTCTCCACTAACACGCTGGCGGATGCTGAGGTGTGCTGTACAGGCTAGACCAGAGAGCATGATGGGCCCACCCACCACGAGATTCAGTTGTCACTTTTCCGGATCTCAGGATAACCGTACTATCGACAATTCATTTCGAGCCACCACAAATCAGCCCACTCATTAGATGTCGTTATCCCAACCAATTATGAACGGTGGCGATTTCACATTTTAGCCACCCGGTCATCGACTGTGGAATCGAGGAGTTAAATTCTCTTAGAGAACTTCCATCGGAAAAGAGCTAATTAGCACTCGGCTTGTGCATGTCCAACGTCCATGTCCAGACGCGTACAGGTGCGCGGGATACACACGCTTTCTGAAGTTTGACTAACTCGCCCCGCCCACGGTCAATCCCTATAGTTATATGTCACGAATAGTCGGAGACGCTATCCGTTGTAAAGCTTCAGTTGGCTAAACCAAAGTACGTCTGCCAAGTATCCTCCGTCACGTCCAGATAAACTTTCGTACTCAGGATCCGAGTTAATTGGCCTCTAGAATGATACTACCTACGCAAAGTCTGAGCCGTTGCGTGCACTGCGGCCTTACATTGGAAACTTAAACACCGGGATCTTCGCATGCTATTGAACTAGAAATTCACATAGTCGGGGAGCTCAAGATCACACACACGGGCTACATCGCAACTTTCCTCGTTATGCTCAAACTATAGGCTGGCAAGGGGCCTTTAAGGATAGATGGCCCTGATCGTGGTAGCTCAATCGATGGTGATACGAGAAGCTCCTGCAAGAAAAAAATGGTGCTCAAATTCTTGCGCGATGCAGATTTAGCTTACCCCTCAGTGCTATGCACGAGTGTTTGCCGGCAAGGTAAGTCCATTCCATGTTACACAGCGCCGTGTAGACCCTACCGAGTCA\"\n",
    "sequence2 = \"GCGGTTAAGGGAGGCTCGCGGCCACGCAACTAACCGGCGAGGTGGCGCCCTTGCCCCCGGTCCTGCATGATGGAGGCGATACGCGCCTTCCGGTTGTCTAGCAGGGGTAGAGCCGGGCCCTGAATAAAGGGCTGAGGGGGCTCGATAGCGTAGGGGCTGGTTAGAAGTACCGGCCGCGAGACGCCCCGGGGGGACGAACCCATAAGCATGCCCCGTACTGGTGGGTGAGGCACCCGAAGATGTGGCGCCAGCGGGTGTCCGGACGGCCGCTACTCGGGACCCACTCGTCCCGTCCTACAGTATTGGCCGCCCGACCAGACCGGGCCGCGCTGGAAGCCCGGAGTAGAGCGCCGGCCCGCCCAGACTACAAGGGGTCCTTCGGTACCAGCGGTCCGCGCGGTATTCCAGTCCTGAGTCGAGCTGAAGGACCCCCTCGCGAGGCGTTCGGTGTCGCCCGGAATGGGGGCCGGCTCTGACGGCGCCACCGGGGGCGCACGGGTCCGGCCGTTCATACCGGTGCGGGGACCGTAGGGCGTACATCATCTGCCGAAGACCTGGCTCTCGGTCCGCGAACCAGAACTCAGAAGCCGGCGCTGGCTCAAGGCCCCCCGACTGCTCCCGACGGTTTCTGGCCGAGAGCAGCCTTAACTTTGCATAATACGTGCTTGCACCTCCATGGCCCTCGGGACCCGGTGTCCCCCCCTAGGAAGCTCACAGACCCTCGGTGGGGCCTGCCAGACCAACGACAGCCGTCCCCTGCAGCGGGGACGCCCCGGGCTGGGGTGCGTTGTACCTCCTCCGTCCGTTGGAGCGCTCGCATCCTAGAAACCTTACCTCGCTGATCGAAGCTGGGAGTCGGTGCCAGGTGGCGGGACGCGCGGTGCAATCAGCGCACGAGAGAGCCCCCCTGCAGCGCCGGGGCTTCTCAAGGCCGTGAACGTAGGACCGGGTGAGCAACTTGTGCCCGGCCACGGCGAGGTTTCCCGGGCACATGCTCTTG\"\n",
    "\n",
    "dna_seq1 = DnaSequence(dna_sequence=sequence1, sequence_name=\"Sequence 1\")\n",
    "dna_seq2 = DnaSequence(dna_sequence=sequence2, sequence_name=\"Sequence 2\")\n",
    "\n",
    "my_sequences = [dna_seq1, dna_seq2]\n",
    "\n",
    "def compute_cg_proportion(sequences: list[DnaSequence]) -> np.ndarray:\n",
    "    \"\"\"\n",
    "    Compute the CG percentage at each position in sequences of the same length.\n",
    "\n",
    "    This function computes the percentage of nucleotides that are C or G at\n",
    "    each position in a set of nucleotide sequences of the same length.\n",
    "\n",
    "    Parameters:\n",
    "        - sequences: List containing DNA sequences of the **same length**.\n",
    "\n",
    "    Returns:\n",
    "        - NumPy array of shape (sequence_length,) where sequence_length \n",
    "          corresponds to the common length of the nucleotide sequences.\n",
    "    \"\"\"\n",
    "\n",
    "    # Get the sequence length and the number of sequences\n",
    "    sequence_length = len(sequences[0].dna_sequence)\n",
    "    number_of_sequences = len(sequences)\n",
    "\n",
    "    # Create an array where we will record whether each nucleotide is C or G\n",
    "    cg_count_array = np.zeros((number_of_sequences, sequence_length))\n",
    "\n",
    "    # Let's iterate over the sequences. We need the indices!\n",
    "    for i in range(number_of_sequences):\n",
    "\n",
    "        # Get the sequence\n",
    "        current_sequence = sequences[i].dna_sequence.upper()\n",
    "\n",
    "        # Find the positions of C or G:\n",
    "        cg_positions = []\n",
    "\n",
    "        for j in range(sequence_length):\n",
    "            nt = current_sequence[j]\n",
    "\n",
    "            if nt in \"CG\":\n",
    "                cg_count_array[i, j] = 1\n",
    "\n",
    "    # Now, we need to take the mean along each column to get the proportion!\n",
    "    cg_prob_array = cg_count_array.mean(axis=0)\n",
    "\n",
    "    return cg_prob_array\n"
   ]
  },
  {
   "cell_type": "markdown",
   "metadata": {},
   "source": [
    "Now, let's test it !"
   ]
  },
  {
   "cell_type": "code",
   "execution_count": 263,
   "metadata": {},
   "outputs": [
    {
     "name": "stdout",
     "output_type": "stream",
     "text": [
      "[0.5 1.  0.5 1.  0.5 0.  0.  0.5 1.  0.5 0.5 0.5 1.  1.  1.  0.  0.5 1.\n",
      " 1.  0.5 0.5 0.5 0.5 0.  0.5 0.5 1.  0.5 0.5 0.5 0.  0.  0.5 0.5 0.5 0.5\n",
      " 0.5 1.  0.5 0.5 1.  0.5 0.  0.5 0.5 0.5 0.5 1.  1.  1.  0.  0.5 0.5 1.\n",
      " 1.  1.  0.5 0.5 1.  1.  0.  1.  1.  0.5 1.  0.5 0.  0.5 1.  0.  0.5 1.\n",
      " 1.  0.  1.  1.  1.  1.  0.5 0.  0.5 0.5 0.5 0.5 1.  0.5 1.  0.5 0.  1.\n",
      " 0.5 1.  0.5 0.5 0.5 0.5 0.5 0.5 0.  0.  1.  0.5 0.5 1.  1.  0.5 1.  0.5\n",
      " 0.5 1.  0.5 0.5 0.5 1.  1.  0.5 1.  0.5 1.  1.  0.  1.  0.  0.5 0.5 0.\n",
      " 0.5 0.  0.5 1.  0.5 1.  0.5 1.  0.  0.5 1.  0.5 1.  1.  0.5 0.5 0.5 1.\n",
      " 0.  0.5 0.5 0.5 0.5 1.  0.  0.  1.  1.  1.  1.  1.  0.5 0.5 1.  0.5 0.5\n",
      " 0.  1.  0.5 0.  1.  0.5 0.  1.  0.5 0.5 0.5 1.  0.5 1.  0.5 0.5 0.5 0.5\n",
      " 0.5 0.5 1.  0.5 0.5 0.5 0.5 1.  1.  1.  1.  0.5 0.5 0.5 0.5 1.  0.  0.5\n",
      " 1.  0.5 0.5 0.  0.  0.5 0.5 1.  0.5 0.  0.5 0.5 0.5 0.5 1.  1.  0.5 0.5\n",
      " 0.  0.5 0.  0.5 1.  0.  0.5 0.5 0.5 0.5 1.  0.  1.  1.  1.  0.  1.  1.\n",
      " 0.5 1.  0.  0.  0.5 0.  0.5 0.5 0.5 1.  1.  1.  0.5 1.  0.5 0.5 0.5 0.5\n",
      " 0.5 0.5 1.  0.  0.5 0.5 0.5 1.  1.  0.5 0.  0.5 0.5 1.  1.  1.  0.5 0.5\n",
      " 0.5 0.5 0.5 0.  0.5 0.5 0.5 0.5 0.5 0.5 0.5 1.  0.5 1.  0.  1.  1.  0.5\n",
      " 1.  0.5 0.5 0.5 0.  1.  0.5 0.5 0.  0.5 0.  0.5 0.  0.  0.5 0.5 1.  0.5\n",
      " 1.  1.  1.  1.  1.  0.5 1.  0.  0.5 1.  0.5 0.5 0.5 0.5 1.  0.5 1.  1.\n",
      " 0.5 0.5 0.5 1.  1.  0.5 0.5 1.  0.5 0.5 0.  0.5 0.5 0.5 0.5 0.5 0.5 0.5\n",
      " 0.5 0.5 0.  0.5 0.  1.  0.5 1.  0.5 0.5 1.  0.5 0.5 1.  1.  0.5 0.5 1.\n",
      " 1.  0.5 0.5 0.  0.5 0.  0.5 0.5 0.5 0.5 0.5 0.5 0.5 0.5 0.  0.5 1.  0.5\n",
      " 0.  1.  0.5 1.  0.5 0.5 1.  0.5 0.  1.  0.5 1.  1.  0.  0.5 1.  0.5 1.\n",
      " 1.  0.5 0.5 1.  0.5 0.  0.5 0.5 0.5 0.5 0.5 0.5 0.5 1.  0.5 0.5 0.5 0.5\n",
      " 1.  0.5 1.  0.5 0.  1.  0.5 0.5 1.  0.  0.5 1.  1.  0.5 1.  1.  1.  0.5\n",
      " 0.5 0.  1.  0.5 1.  0.5 0.5 1.  1.  0.5 0.5 0.  0.5 0.5 1.  0.5 0.  1.\n",
      " 0.  0.5 0.5 1.  0.5 1.  0.5 0.5 0.  0.5 0.  1.  1.  1.  1.  1.  1.  1.\n",
      " 1.  1.  1.  0.  1.  0.5 1.  0.  1.  0.5 0.5 0.5 1.  1.  1.  0.  0.5 0.5\n",
      " 0.5 1.  0.5 0.5 0.5 0.5 0.5 0.5 0.5 0.5 1.  0.5 1.  0.5 0.5 0.5 0.5 0.5\n",
      " 1.  0.5 1.  0.5 0.5 0.5 0.5 0.  0.5 1.  1.  0.5 0.5 0.  1.  1.  1.  0.5\n",
      " 0.5 1.  0.  0.5 0.5 0.5 0.5 0.5 0.5 0.5 1.  0.5 1.  0.  0.  1.  0.5 0.5\n",
      " 0.5 0.  0.  0.5 0.5 1.  0.5 0.5 0.5 0.5 0.  0.5 0.5 1.  0.5 0.5 0.5 1.\n",
      " 1.  0.5 0.5 0.  1.  0.5 0.5 0.  1.  1.  0.5 1.  1.  0.5 0.  1.  0.5 0.5\n",
      " 1.  0.  0.5 1.  0.  1.  0.  0.5 0.  0.  0.5 1.  0.5 0.5 0.5 1.  1.  0.5\n",
      " 0.  1.  0.5 1.  0.  1.  0.5 0.  0.5 1.  1.  1.  0.5 1.  0.5 0.5 0.5 0.\n",
      " 0.5 0.  1.  1.  0.5 1.  0.5 1.  0.5 0.  1.  0.5 0.5 0.  0.5 0.  0.5 0.\n",
      " 1.  0.5 0.5 1.  1.  0.  0.5 0.5 1.  1.  0.  0.5 0.5 1.  0.  0.5 0.  0.5\n",
      " 0.5 0.5 0.5 0.5 1.  0.5 0.  0.5 0.5 0.5 0.  0.5 1.  0.5 0.5 0.5 1.  0.5\n",
      " 0.5 1.  1.  0.5 0.5 0.5 0.  1.  0.5 0.  0.  1.  1.  0.5 0.5 0.5 0.5 0.5\n",
      " 0.5 0.5 0.5 0.  1.  0.5 1.  1.  1.  0.5 1.  0.  0.5 1.  0.5 0.5 1.  1.\n",
      " 1.  0.  0.  1.  1.  0.  0.  0.5 0.5 0.5 0.5 0.  1.  0.  0.5 0.5 0.5 0.5\n",
      " 0.5 0.  0.5 1.  0.5 0.5 0.5 0.5 0.5 1.  0.5 1.  0.5 1.  1.  1.  0.  1.\n",
      " 0.5 0.5 1.  0.  0.  1.  0.5 0.  1.  0.  1.  0.5 1.  0.5 0.5 0.5 1.  1.\n",
      " 1.  0.5 1.  0.5 0.  1.  0.5 0.5 1.  1.  1.  0.  0.5 1.  0.5 0.5 0.5 1.\n",
      " 1.  0.5 1.  1.  0.  0.5 0.5 0.5 1.  0.5 0.5 1.  0.5 0.  0.  1.  0.  0.\n",
      " 0.5 0.5 0.5 1.  1.  0.  1.  1.  1.  0.  0.5 1.  1.  0.5 0.5 1.  1.  0.\n",
      " 0.5 0.5 0.5 0.5 0.5 1.  0.5 0.5 0.  0.5 0.5 0.5 0.5 0.5 1.  0.5 0.5 0.\n",
      " 1.  0.5 0.  0.5 0.5 0.5 1.  0.5 0.5 0.5 1.  0.5 0.5 0.5 0.  0.5 0.5 0.5\n",
      " 0.5 0.5 0.5 0.5 1.  0.5 1.  0.  0.5 0.  1.  1.  0.5 0.5 0.5 0.5 1.  0.5\n",
      " 0.5 1.  0.5 0.5 1.  1.  0.5 0.5 1.  0.  0.5 0.5 0.5 0.5 0.5 0.5 0.5 0.5\n",
      " 1.  0.5 0.5 0.5 0.  1.  0.  0.5 0.5 0.5 0.5 0.5 0.5 0.5 0.5 1.  0.5 1.\n",
      " 0.5 0.5 0.5 1.  1.  0.5 1.  0.5 0.  0.5 0.5 0.  1.  1.  0.5 0.5 0.5 1.\n",
      " 1.  1.  1.  0.5 0.5 0.  1.  0.  1.  0.5 0.  0.5 0.5 1.  1.  0.5 0.5 1.\n",
      " 0.  0.5 0.5 1.  0.  0.  0.5 1.  0.5 1.  1.  1.  1.  0.5 0.  1.  0.5 0.5\n",
      " 0.5 0.  0.5 0.5 0.5 0.5 0.5 0.  0.5 1.  1.  0.5 0.5 1.  0.5 0.5 0.  1.\n",
      " 0.5 1.  0.5 1.  0.5 1.  1.  0.5 0.5 0.  1.  0.5 0.5 1.  0.5 1.  1.  0.5\n",
      " 0.5 0.  0.5 1.  1.  0.  1.  0.  0.5 0.5]\n"
     ]
    }
   ],
   "source": [
    "my_cg_array = compute_cg_proportion(my_sequences)\n",
    "\n",
    "print(my_cg_array)"
   ]
  },
  {
   "cell_type": "code",
   "execution_count": 264,
   "metadata": {},
   "outputs": [
    {
     "name": "stdout",
     "output_type": "stream",
     "text": [
      "[0.71428571 0.57142857 0.57142857 0.42857143 0.42857143 0.71428571\n",
      " 0.28571429 0.28571429 0.57142857 0.71428571 0.57142857 0.28571429\n",
      " 0.42857143 1.         0.57142857 0.        ]\n"
     ]
    }
   ],
   "source": [
    "# And now for a shorter example:\n",
    "sequences = [\"ATCCATTACAGGCGCA\", \"CGACAGTGCATGTGAA\", \"CGACGTAGTCGATGCA\", \"TCGAGCTAGCATCGAT\",\n",
    "              \"CAGTACGTACGATCGA\", \"CAGTACGTACGATCGA\",\"CGATCGATCGATCGAT\",]\n",
    "\n",
    "# This is a list comprehension! They're really cool and fun!\n",
    "sequences = [DnaSequence(dna_sequence=seq, sequence_name=f\"Sequence{i}\") for i, seq in enumerate(sequences)]\n",
    "\n",
    "gc_probs = compute_cg_proportion(sequences)\n",
    "\n",
    "print(gc_probs)"
   ]
  },
  {
   "cell_type": "markdown",
   "metadata": {},
   "source": [
    "For fun, here's an alternative approach that relies on NumPy arrays containing strings! Yes, those are possible!"
   ]
  },
  {
   "cell_type": "code",
   "execution_count": 302,
   "metadata": {},
   "outputs": [],
   "source": [
    "def compute_cg_proportion(sequences: list[DnaSequence]) -> np.ndarray:\n",
    "    \"\"\"\n",
    "    Compute the CG percentage at each position in sequences of the same length.\n",
    "\n",
    "    This function computes the percentage of nucleotides that are C or G at\n",
    "    each position in a set of nucleotide sequences of the same length.\n",
    "\n",
    "    Parameters:\n",
    "        - sequences: List containing DNA sequences of the **same length**.\n",
    "\n",
    "    Returns:\n",
    "        - NumPy array of shape (sequence_length,) where sequence_length \n",
    "          corresponds to the common length of the nucleotide sequences.\n",
    "    \"\"\"\n",
    "\n",
    "    # Split sequences into the nucleotides (see https://www.geeksforgeeks.org/python-split-string-into-list-of-characters/)\n",
    "    split_sequences = [list(seq.dna_sequence.upper()) for seq in sequences]\n",
    "\n",
    "    # Create NumPy array based on the sequences\n",
    "    nucleotide_array = np.array(split_sequences)\n",
    "\n",
    "    # Create the voting array, with the same shape as the nucleotide array\n",
    "    cg_count_array = np.zeros(nucleotide_array.shape)\n",
    "\n",
    "    # Now, for the assignment magic! We're using conditional assignment!\n",
    "    cg_count_array[nucleotide_array==\"C\"] = 1\n",
    "    cg_count_array[nucleotide_array==\"G\"] = 1\n",
    "\n",
    "    # Now, for the mean\n",
    "    cg_probs = cg_count_array.mean(axis=0)\n",
    "\n",
    "    return cg_probs"
   ]
  },
  {
   "cell_type": "code",
   "execution_count": 303,
   "metadata": {},
   "outputs": [
    {
     "name": "stdout",
     "output_type": "stream",
     "text": [
      "[0.71428571 0.57142857 0.57142857 0.42857143 0.42857143 0.71428571\n",
      " 0.28571429 0.28571429 0.57142857 0.71428571 0.57142857 0.28571429\n",
      " 0.42857143 1.         0.57142857 0.        ]\n"
     ]
    }
   ],
   "source": [
    "# And now for a shorter example:\n",
    "sequences = [\"ATCCATTACAGGCGCA\", \"CGACAGTGCATGTGAA\", \"CGACGTAGTCGATGCA\", \"TCGAGCTAGCATCGAT\",\n",
    "              \"CAGTACGTACGATCGA\", \"CAGTACGTACGATCGA\",\"CGATCGATCGATCGAT\",]\n",
    "\n",
    "# This is a list comprehension! They're really cool and fun!\n",
    "sequences = [DnaSequence(dna_sequence=seq, sequence_name=f\"Sequence{i}\") for i, seq in enumerate(sequences)]\n",
    "\n",
    "gc_probs = compute_cg_proportion(sequences)\n",
    "\n",
    "print(gc_probs)"
   ]
  },
  {
   "cell_type": "markdown",
   "metadata": {},
   "source": [
    "## Module Summary\n",
    "\n",
    "Yay! We've reached the end of the module on packages. In this module, we learned:\n",
    "\n",
    "* What Python **packages** are, how to find them on **PyPI** and **Anaconda** and how to **install** them using `pip` and `conda`.\n",
    "* How to **import** modules, classes and functions into Python files.\n",
    "* How to use **NumPy** to perform mathematical and array operations.\n",
    "* How to **read documentation** for different NumPy classes and functions.\n",
    "\n",
    "These skills we've seen in this module will come in very handy in the next module."
   ]
  },
  {
   "cell_type": "markdown",
   "metadata": {},
   "source": [
    "# Module 4 - Working with the Operating Systems and the User\n",
    "\n",
    "It's all good and fun to have scripts that run in a vacuum. But, we often need to bring data in from files to process. We also need to take in arguments from the user, who may or may not know how to write Python code.\n",
    "\n",
    "In this module, we'll see the basics of working with the operating system, reading and copying files. Then, we'll see how to organise our code into scripts that can be run from the command line.\n",
    "\n",
    "## Working with the Operating System\n",
    "\n",
    "Whenever you're using the computer, your **operating system** does most of the management work. It provides the basis for running all other software, managing the memory and the CPU. The operating system also manages the file system, allowing reading and writing files.\n",
    "\n",
    "### Working with Text Files\n",
    "\n",
    "Text files are simple files that contain... text! It's **very important** to know the difference between a *text* file and a *word processing* file. A **text file** contains only text. To open it, you can would use a program like **Notepad** or **Notepad++** on Windows, **TextEdit** on macOS, or something like **Gedit** on Linux. You can also edit them on the command line using tools like `vim`, `emacs` or `nano`, or read them using `cat` or `less`. You **do not** open these files using Microsoft Word, LibreOffice or Pages.\n",
    "\n",
    "Again, these are very simple files that contain **only text**. No images, no tables, no fancy fonts.\n",
    "\n",
    "We can read and write these files using Python (see [here](https://docs.python.org/3/tutorial/inputoutput.html#tut-files) for complete details). To open a file, we use the built-in `open` function. This function is documented [here](https://docs.python.org/3/library/functions.html#open).\n",
    "\n",
    "When calling this function, here are the common arguments:\n",
    "\n",
    "```python\n",
    "\n",
    "my_file = open(\"filename.txt\", mode=\"<mode>\")\n",
    "\n",
    "```\n",
    "\n",
    "* The first argument is the **filename**. This positional argument is *required*.\n",
    "* The second argument is the **mode**. Commonly-used values for this argument are:\n",
    "    * `r` - open the file only for *reading* (default).\n",
    "    * `w` - open the file only for *writing*. **If the file exists, it will be cleared and overwritten**.\n",
    "    * `a` - open the file only for *appending*. If the file exists, new text is added to the end.\n",
    "\n",
    "These values for the `mode` are specifically for working with text files. There are *slightly* different values for a different type of file, known as a *binary* file (which we won't see).\n",
    "\n",
    "When you're done working with a file, you close it using the `close` method.\n",
    "\n",
    "#### Reading Files\n",
    "\n",
    "We've seen how to open the files. Now let's look at how to read. There are a few different ways to read a file. The most direct way is to use a `for` loop to read the file line-by-line. We can then process each line.\n",
    "\n",
    "Here's the syntax:\n",
    "\n",
    "```python\n",
    "\n",
    "my_file = open('my_file.txt')\n",
    "\n",
    "my_lines = []\n",
    "\n",
    "for line in my_file:\n",
    "    my_lines.append(line)\n",
    "\n",
    "my_file.close()\n",
    "\n",
    "```\n",
    "\n",
    "Remember to close the file!\n",
    "\n",
    "Let's see an example with a text file I've included called \"my_text_file.txt\":"
   ]
  },
  {
   "cell_type": "code",
   "execution_count": 266,
   "metadata": {},
   "outputs": [
    {
     "name": "stdout",
     "output_type": "stream",
     "text": [
      "['Hello, MiCM workshop!\\n', 'This is a text file!\\n', \"It's a nice, simple file.\\n\", 'The only thing in here is text...']\n"
     ]
    }
   ],
   "source": [
    "# Your code here\n",
    "\n",
    "my_file = open(\"my_text_file.txt\")\n",
    "\n",
    "print(my_file.readlines())\n",
    "\n",
    "my_file.close()"
   ]
  },
  {
   "cell_type": "markdown",
   "metadata": {},
   "source": [
    "Alternatively, we can use the file methods `read` and `readlines` to read a single line, or all lines, respectively.\n",
    "\n",
    "We can also change the syntax a bit so that we don't have to explicitly close the file. This approach involves using a `with` statement:\n",
    "\n",
    "```python\n",
    "\n",
    "with open(\"my_file.txt\") as my_file:\n",
    "    all_lines = my_file.readlines()\n",
    "\n",
    "    print(f\"All lines in file are:\\n {all_lines}\")\n",
    "\n",
    "```\n",
    "\n",
    "Here's an explanation of the `with` statement. Immediately after `with`, we put in code that runs and returns a value. This value is given the name provided after `as`. Once the `with` block finishes, the file is automatically closed.\n",
    "\n",
    "Let's re-write our example from before:"
   ]
  },
  {
   "cell_type": "code",
   "execution_count": 267,
   "metadata": {},
   "outputs": [
    {
     "name": "stdout",
     "output_type": "stream",
     "text": [
      "Hello, MiCM workshop!\n",
      "This is a text file!\n",
      "It's a nice, simple file.\n",
      "The only thing in here is text...\n"
     ]
    }
   ],
   "source": [
    "# Your code here\n",
    "\n",
    "with open(\"my_text_file.txt\") as my_file:\n",
    "    print(my_file.read())"
   ]
  },
  {
   "cell_type": "markdown",
   "metadata": {},
   "source": [
    "### Writing Files\n",
    "\n",
    "In addition to reading files, we can also write files. The key methods are `write` and `writelines`. It is very important to note that the newline character `\\n` is **not** automatically added to each line.\n",
    "\n",
    "Let's do an example, where we write to `my_new_text.txt`:"
   ]
  },
  {
   "cell_type": "code",
   "execution_count": 269,
   "metadata": {},
   "outputs": [],
   "source": [
    "# Your code here\n",
    "my_file = open(\"my_new_text.txt\", \"w\")\n",
    "my_file.write(\"Hello, world!\\n\")\n",
    "my_file.write(\"This file was written using Python!\\n\")\n",
    "my_file.close()\n",
    "\n",
    "with open(\"my_new_text2.txt\", \"w\") as my_file:\n",
    "    my_file.write(\"Hello, world!\\n\")\n",
    "    my_file.write(\"This file was written using Python!\\n\")\n",
    "\n",
    "# There's no need to close the file when using `with`"
   ]
  },
  {
   "cell_type": "markdown",
   "metadata": {},
   "source": [
    "**Note:** If you don't use the ``with`` syntax make sure to `.close()` the file to ensure your contents are written!"
   ]
  },
  {
   "cell_type": "markdown",
   "metadata": {},
   "source": [
    "### Operating System - Hands-On Activity I: Working with FASTA Files\n",
    "\n",
    "Often, DNA and protein sequences are stored as FASTA files. The file format is described in detail [here](https://blast.ncbi.nlm.nih.gov/doc/blast-topics/). In the file, there are two types of lines:\n",
    "\n",
    "* Description lines, which begin with the character `>`. These lines **don't** contain the sequences.\n",
    "* Sequence lines, which contain nucleotides or amino acids.\n",
    "\n",
    "Let's work on writing code to read and write FASTA files based on our DNA and RNA objects. I've included some sample sequence files in the `sequences` directory."
   ]
  },
  {
   "cell_type": "code",
   "execution_count": 272,
   "metadata": {},
   "outputs": [
    {
     "name": "stdout",
     "output_type": "stream",
     "text": [
      "99\n"
     ]
    }
   ],
   "source": [
    "# Your code here\n",
    "from typing import List\n",
    "\n",
    "my_filename = \"../code/sequences/non_template_sequences_biased.fasta\"\n",
    "\n",
    "my_sequences: List[DnaSequence] = []\n",
    "\n",
    "with open(my_filename) as fasta_file:\n",
    "\n",
    "    current_sequence = \"\"\n",
    "    current_name = \"\"\n",
    "\n",
    "    for line in fasta_file:\n",
    "\n",
    "        current_line = line.strip()\n",
    "\n",
    "        if current_line[0] == \">\":\n",
    "\n",
    "            if current_sequence != \"\":\n",
    "                new_sequence_object = DnaSequence(current_sequence, current_name)\n",
    "                my_sequences.append(new_sequence_object)\n",
    "\n",
    "                current_sequence = \"\"\n",
    "\n",
    "            sequence_name = current_line[1:].strip()\n",
    "            current_name = sequence_name\n",
    "\n",
    "        else:\n",
    "            current_sequence += current_line\n",
    "\n",
    "print(len(my_sequences))"
   ]
  },
  {
   "cell_type": "code",
   "execution_count": 304,
   "metadata": {},
   "outputs": [],
   "source": [
    "# Let's now rewrite this as a function!\n",
    "\n",
    "def read_dna_fasta_file(filename: str) -> List[DnaSequence]:\n",
    "    \"\"\"\n",
    "    Read DNA FASTA file.\n",
    "\n",
    "    This function reads a DNA FASTA file and creates a list of ``DnaSequence`` objects.\n",
    "\n",
    "    Parameters:\n",
    "        - filename: path to the FASTA file.\n",
    "\n",
    "    Returns:\n",
    "        - List of ``DnaSequence`` objects representing the loaded DNA sequences.\n",
    "    \"\"\"\n",
    "\n",
    "    my_sequences: List[DnaSequence] = []\n",
    "\n",
    "    with open(filename) as fasta_file:\n",
    "\n",
    "        current_sequence = \"\"\n",
    "        current_name = \"\"\n",
    "\n",
    "        for line in fasta_file:\n",
    "\n",
    "            current_line = line.strip()\n",
    "\n",
    "            if current_line[0] == \">\":\n",
    "\n",
    "                if current_sequence != \"\":\n",
    "                    new_sequence_object = DnaSequence(current_sequence, current_name)\n",
    "                    my_sequences.append(new_sequence_object)\n",
    "\n",
    "                    current_sequence = \"\"\n",
    "\n",
    "                sequence_name = current_line[1:].strip()\n",
    "                current_name = sequence_name\n",
    "\n",
    "            else:\n",
    "                current_sequence += current_line\n",
    "\n",
    "    return my_sequences\n",
    "\n",
    "def write_fasta_file(sequences: List[str], names: List[str], filename: str):\n",
    "    \"\"\"\n",
    "    Write FASTA file containing sequences of any type.\n",
    "\n",
    "    This function writes a FASTA file, regardless of the type of sequences passed in.\n",
    "    Lines in the FASTA file have a fixed width of 80 characters.\n",
    "\n",
    "    Parameters:\n",
    "        - sequences: sequences to write. May be nucleotide or amino acids.\n",
    "        - names: sequence names, or other metadata to encode in the FASTA file.\n",
    "        - filename: path to the FASTA file.\n",
    "\n",
    "    Returns:\n",
    "        - None.\n",
    "    \"\"\"\n",
    "\n",
    "    with open(filename, \"w\") as fasta_file:\n",
    "        for seq, name in zip(sequences, names):\n",
    "            fasta_file.write(f\"> {name}\\n\")\n",
    "\n",
    "            # We want to clip the lines to be a certain length so that the file is easier to read.\n",
    "            # Let's say 80 characters.\n",
    "            line_length = 80\n",
    "            seq_length = len(seq)\n",
    "\n",
    "            number_of_full_lines = seq_length // line_length\n",
    "            remaining_chars = seq_length % line_length\n",
    "\n",
    "            for i in range(number_of_full_lines):\n",
    "                \n",
    "                # Get the sub_sequence\n",
    "                sub_sequence = seq[i * line_length: (i+1) * line_length]\n",
    "                fasta_file.write(f\"{sub_sequence}\\n\")\n",
    "\n",
    "            # Check if we have a remainder\n",
    "            if remaining_chars > 0:\n",
    "                # Take the last `remaining_chars` characters\n",
    "                sub_sequence = seq[-remaining_chars:]\n",
    "                fasta_file.write(f\"{sub_sequence}\\n\")\n",
    "            "
   ]
  },
  {
   "cell_type": "code",
   "execution_count": 275,
   "metadata": {},
   "outputs": [
    {
     "name": "stdout",
     "output_type": "stream",
     "text": [
      "We have 99 DNA sequences loaded from ../code/sequences/non_template_sequences_biased.fasta\n"
     ]
    }
   ],
   "source": [
    "# Let's now try it!\n",
    "\n",
    "my_sequences = read_dna_fasta_file(my_filename)\n",
    "\n",
    "print(f\"We have {len(my_sequences)} DNA sequences loaded from {my_filename}\")"
   ]
  },
  {
   "cell_type": "markdown",
   "metadata": {},
   "source": [
    "### Files and Paths - Using `os` and `shutil`\n",
    "\n",
    "We've just seen how to read and write files. The most important argument when performing file tasks is the filename. A filename typically contains **two** parts:\n",
    "\n",
    "* The **file path** - the address where the file is located on your file system. This represents a *folder* or a *directory* on your hard drive. In some cases, this part is optional.\n",
    "* The **filename** - the actual name of the file. This name *usually* consists of a name and an *extension*, like `.txt` or `.csv`, that indicates what type of file it is.\n",
    "\n",
    "If the file is located in the same  folder as your Python code, you don't need to provide the *file path*. Otherwise, this element is required. There are two different types of paths:\n",
    "\n",
    "* **Absolute** paths - where the file is found with respect to the *filesystem root*, which is the hard drive where the file is found. One Windows, this is usually your `C:\\` drive. On macOS and Linux, the filesystem root is represented as `/`.\n",
    "* **Relative** paths - where the file is found with respect to your *current location*. There are a couple of important shortcuts to know. `.` represents the current folder while `..` represents the parent folder (the folder above where you currently are).\n",
    "\n",
    "The Python Standard Library provides us with some tools for working with files, folders and paths.\n",
    "\n",
    "For working with paths, we can use the `os` module ([docs](https://docs.python.org/3/library/os.html)). This module provides a number of tools for interacting with the operating system. In the submodule `os.path` ([docs](https://docs.python.org/3/library/os.path.html)), we have a number of useful functions:\n",
    "\n",
    "* `os.path.join` - join together multiple path elements to produce a full path. This is useful if creating a new path based on variables.\n",
    "* `os.path.abspath` - convert a relative path to an absolute path.\n",
    "* `os.path.relpath` - convert an absolute path to a relative path.\n",
    "* `os.path.isdir` - check to see if a path represents a directory.\n",
    "* `os.path.isfile` - check to see if a path represents a file.\n",
    "* `os.path.dirname` - separate out the file path from the complete path.\n",
    "* `os.path.basename` - separate out the filename from the complete path.\n",
    "* `os.path.splitext` - split a filename into a base and an extension.\n",
    "\n",
    "For exploring in a given directory, `os` provides useful functions. We can use `os.listdir` to see all files in a given directory. We can even create new folders using `os.mkdir`.\n",
    "\n",
    "Let's do a few examples with paths to understand a bit more:"
   ]
  },
  {
   "cell_type": "code",
   "execution_count": 277,
   "metadata": {},
   "outputs": [
    {
     "name": "stdout",
     "output_type": "stream",
     "text": [
      "My reference path is: Users/benjamin/documents\n",
      "My folder path is: Users/benjamin/documents/micm_workshop\n",
      "My folder path relative to the reference is: micm_workshop\n",
      "My script file path is: Users/benjamin/documents/micm_workshop/scripts/dna_script.py\n",
      "My script has a base name of dna_script.py and is in directory Users/benjamin/documents/micm_workshop/scripts\n",
      "My file has a base name of dna_script and has extension .py\n"
     ]
    }
   ],
   "source": [
    "# Your code here\n",
    "import os\n",
    "\n",
    "# Let's start with a dummy path name (so that I don't share my entire directory structure 😅 )\n",
    "my_reference_path = os.path.join(\"Users\", \"benjamin\", \"documents\")\n",
    "print(f\"My reference path is: {my_reference_path}\")\n",
    "\n",
    "my_folder_path = os.path.join(my_reference_path, \"micm_workshop\")\n",
    "print(f\"My folder path is: {my_folder_path}\")\n",
    "\n",
    "my_folder_relative_path = os.path.relpath(my_folder_path, start=my_reference_path)\n",
    "print(f\"My folder path relative to the reference is: {my_folder_relative_path}\")\n",
    "\n",
    "my_filename = os.path.join(my_folder_path, \"scripts\", \"dna_script.py\")\n",
    "print(f\"My script file path is: {my_filename}\")\n",
    "\n",
    "my_file_base_name = os.path.basename(my_filename)\n",
    "my_file_dir_name = os.path.dirname(my_filename)\n",
    "print(f\"My script has a base name of {my_file_base_name} and is in directory {my_file_dir_name}\")\n",
    "\n",
    "file_base, file_ext = os.path.splitext(my_file_base_name)\n",
    "print(f\"My file has a base name of {file_base} and has extension {file_ext}\")\n"
   ]
  },
  {
   "cell_type": "markdown",
   "metadata": {},
   "source": [
    "These functions are great for working with paths and creating folders. But let's say we want to **move** or **copy** files. What can we do? Well, Python provides the `shutil` module ([docs](https://docs.python.org/3/library/shutil.html)). Here are some of the useful functions in this module:\n",
    "\n",
    "* `shutil.copy` and `shutil.copy2` - copying files from one location to another.\n",
    "* `shutil.copytree` - copy an entire folder hierarchy from one location to another.\n",
    "* `shutil.rmtree` - delete a folder hierarchy and all included files.\n",
    "* `shutil.move` - move a file from one location to another.\n",
    "\n",
    "These functions are very useful if you want to perform processing steps and keep all your files in a temporary folder (to avoid having to keep using long paths).\n",
    "\n",
    "Let's see some examples:"
   ]
  },
  {
   "cell_type": "code",
   "execution_count": 286,
   "metadata": {},
   "outputs": [
    {
     "data": {
      "text/plain": [
       "'copied_text_files/copied_text_file.txt'"
      ]
     },
     "execution_count": 286,
     "metadata": {},
     "output_type": "execute_result"
    }
   ],
   "source": [
    "# Your code here\n",
    "\n",
    "import shutil\n",
    "\n",
    "shutil.copy(\"my_text_file.txt\", \"copied_text_file.txt\")\n",
    "\n",
    "os.mkdir(\"copied_text_files\")\n",
    "shutil.move(\"copied_text_file.txt\", \"copied_text_files\")"
   ]
  },
  {
   "cell_type": "code",
   "execution_count": 287,
   "metadata": {},
   "outputs": [],
   "source": [
    "# Now we can delete the file and folder!\n",
    "shutil.rmtree(\"copied_text_files\")"
   ]
  },
  {
   "cell_type": "markdown",
   "metadata": {},
   "source": [
    "### Operating System - Hands-On Activity II: Processing FASTA Files\n",
    "\n",
    "Earlier we wrote code to read and write FASTA files. Well, now let's take things a step farther. Let's write code to copy a specific FASTA file to a new folder called `DNA` in a specified parent folder, read the file, perform translation, save the new file in a folder called `Proteins` and then copy the protein file back to the original location. Performing this task will involve using `os` and `shutil`."
   ]
  },
  {
   "cell_type": "code",
   "execution_count": 307,
   "metadata": {},
   "outputs": [],
   "source": [
    "# Your code here\n",
    "\n",
    "def process_fasta_files(fasta_file: str, temp_dir: str = \"temp\", is_template_strand: bool = True):\n",
    "    \"\"\"\n",
    "    FASTA File Processing\n",
    "\n",
    "    Translate DNA from a specified FASTA file to a new FASTA file containing the protein sequences.\n",
    "\n",
    "    Parameters:\n",
    "        - fasta_file: FASTA file containing the DNA sequences.\n",
    "        - temp_dir: Name for temporary directory where the processing will occur.\n",
    "        - is_template_strand: Indicate whether DNA is on template strand.\n",
    "    \"\"\"\n",
    "\n",
    "    # Delete the temp folder if it exists\n",
    "    if os.path.isdir(temp_dir):\n",
    "        shutil.rmtree(temp_dir)\n",
    "\n",
    "    # Create our temporary directory structure.\n",
    "    os.mkdir(temp_dir)\n",
    "\n",
    "    dna_path = os.path.join(temp_dir, \"DNA\")\n",
    "    protein_path = os.path.join(temp_dir, \"Proteins\")\n",
    "\n",
    "    os.mkdir(dna_path)\n",
    "    os.mkdir(protein_path)\n",
    "\n",
    "    # Copy the DNA FASTA file to our temporary directory\n",
    "    temp_fasta_location = os.path.join(dna_path, \"dna_file.fasta\")\n",
    "\n",
    "    shutil.copy2(fasta_file, temp_fasta_location)\n",
    "\n",
    "    temp_protein_file = os.path.join(protein_path, \"protein_file.fasta\")\n",
    "    \n",
    "    # Perform the translation\n",
    "    dna_sequences = read_dna_fasta_file(temp_fasta_location)\n",
    "    protein_sequences: List[str] = []\n",
    "    protein_sequence_names: List[str] = []\n",
    "\n",
    "    for sequence in dna_sequences:\n",
    "        m_rna_sequence = sequence.transcribe(is_template_strand=is_template_strand)\n",
    "        protein_sequence = m_rna_sequence.translate()\n",
    "\n",
    "        protein_sequences.append(protein_sequence)\n",
    "        protein_sequence_names.append(sequence.sequence_name)\n",
    "\n",
    "    # Write the FASTA file\n",
    "    write_fasta_file(sequences=protein_sequences, names=protein_sequence_names, filename=temp_protein_file)\n",
    "\n",
    "    # Copy the protein file to the original location... but first, give the file a new name\n",
    "    original_dna_base_filename = os.path.basename(fasta_file)\n",
    "    original_dna_folder = os.path.dirname(fasta_file)\n",
    "    original_dna_base_name_no_ext, original_dna_base_name_ext = os.path.splitext(original_dna_base_filename)\n",
    "\n",
    "    protein_filename = f\"{original_dna_base_name_no_ext}_PROTEIN{original_dna_base_name_ext}\"\n",
    "\n",
    "    final_protein_filename = os.path.join(original_dna_folder, protein_filename)\n",
    "    \n",
    "    shutil.copy2(temp_protein_file, final_protein_filename)\n",
    "\n"
   ]
  },
  {
   "cell_type": "markdown",
   "metadata": {},
   "source": [
    "Now, let's test it with a file!"
   ]
  },
  {
   "cell_type": "code",
   "execution_count": 308,
   "metadata": {},
   "outputs": [],
   "source": [
    "my_dna_file = \"sequences/non_template_sequences_biased.fasta\"\n",
    "my_temp_dir = \"./temp\"\n",
    "\n",
    "process_fasta_files(fasta_file=my_dna_file, temp_dir=my_temp_dir, is_template_strand=False)"
   ]
  },
  {
   "cell_type": "markdown",
   "metadata": {},
   "source": [
    "Feel free to use any of the other files I've provided in the `code/sequences` folder."
   ]
  },
  {
   "cell_type": "markdown",
   "metadata": {},
   "source": [
    "## Basic Scripts\n",
    "\n",
    "So far, all our Python code has existed in this Jupyter notebook. It's great for me to teach you the basics, but it makes running automated scripts a bit more difficult. In this section, we'll see how to write scripts that you can run easily from the command line. We'll then see how to make them a bit more complicated to allow users to configure options.\n",
    "\n",
    "To create a Python script, first you need to create a Python file. This is a text file that has the `.py` extension. If you're using Microsoft Visual Studio Code to view this Jupyter Notebook, go to the **Explorer** button on the left side. Then, create a new directory under **Code**, called **MyScripts**. Then, create a new file called `test_script.py`. This file will serve as our script.\n",
    "\n",
    "Let's write a quick test script that simply prints the string \"Hello World!\". But first, let's also write some documentation!\n",
    "\n",
    "To run this script, let's now go to the command line. In vscode, we can easily open a terminal and navigate to our script directory. To run our Python file, we simply type:\n",
    "\n",
    "```bash\n",
    "\n",
    "python test_script.py\n",
    "\n",
    "```\n",
    "\n",
    "**Note:** If you're not using Anaconda, you may need to type `python3`. If you're on Windows, the terminal in vscode may not work. If this is the case, you will need to open the Anaconda Prompt from the *Anaconda Navigator*, then change to the script's parent directory and run the above line.\n",
    "\n",
    "What's going on here? We're telling the computer to use `python` to run the file `test_script.py`.\n",
    "\n",
    "So, this is the bare minimum we need for running a Python script. But, there's more we can do.\n",
    "\n",
    "We saw how to use packages. We can also create our own packages and modules. To start building our DNA processing script, let's copy our DNA sequence class to a new file called `biological_sequences.py`. We can write a bit of code underneath to test this class.\n",
    "\n",
    "Now, let's work on writing another file that uses this DNA sequence. Let's create `dna_processing.py`. Let's import `biological_sequences` and create a new DNA sequence and print it to the screen. You may be wondering why we should bother making another file. Well, if your project gets **really big**, you're going to want to have different components in different files.\n",
    "\n",
    "And this raises an important issue. Let's run our `dna_processing.py` file. Wait!!! What's going on! All the code from `biological_sequences.py` is running!\n",
    "\n",
    "To prevent this from happening, we can tell Python to only run the script if the file itself is run from the command line, but not to run everything if we're importing the file. In other programming languages, this would involve defining a `main` function or method. In Python, we nest our script functionality in the following `if` statement:\n",
    "\n",
    "```python\n",
    "\n",
    "if __name__ == \"__main__\":\n",
    "    # Script code goes here...\n",
    "\n",
    "```\n",
    "\n",
    "Now, the script only runs if it has been called from the main interpreter. Otherwise, it won't run and we can simply extract classes and functions.\n",
    "\n",
    "### Basic Scripts - Hands-on Exercise I: DNA Processing Script\n",
    "\n",
    "We've seen how easy it is to create a simple script. Now, let's take all our processing code so far and put it in a new script that takes all the sequences from our `sequences` folder, loads them, computes and prints the basic information from our NumPy section, performs translation and saves the outputs to a new `sequence_proteins` folder. Write this all in a file called `basic_script_exercise.py`."
   ]
  },
  {
   "cell_type": "code",
   "execution_count": null,
   "metadata": {},
   "outputs": [],
   "source": [
    "# See scripts/basic_script_exercise.py"
   ]
  },
  {
   "cell_type": "markdown",
   "metadata": {},
   "source": [
    "### Getting User Parameters\n",
    "\n",
    "This script that we've written works well... but if we want to change where the sequences are coming from, we need to edit the script each time. This is complicated if we're dealing with lots of files and if we're giving the script to people who don't know how to write Python code. Instead of modifying the code, we'd like to pass **command line arguments** to the script.\n",
    "\n",
    "#### Introduction to Linux Command Line Arguments\n",
    "\n",
    "On the command line, we can pass arguments to a program in order to modify its behaviour. We'll specifically see the Linux/Unix/macOS command line. Recall that for functions, we had two types of arguments: positional and keyword. We have two similar types of command line arguments: **positional** and **optional**. Here is the syntax:\n",
    "\n",
    "```bash\n",
    "\n",
    "python my_script.py arg1 arg2 --pos-arg1 val1 --pos-arg2 val2 -q val3\n",
    "\n",
    "```\n",
    "\n",
    "**Positional arguments** are generally required and don't have any flags before them. **Optional arguments** are generally optional, and can appear in one of two ways:\n",
    "\n",
    "* A *single letter* after a single dash (`-`).\n",
    "* A *longer name* after two dashes (`--`).\n",
    "\n",
    "The optional arguments can go in any order, while the positional arguments must follow a specific order.\n",
    "\n",
    "#### Adding Command Line Arguments to Python - Using `argparse`\n",
    "\n",
    "To add command line arguments to our script, we use the `argparse` module from the Python Standard Library ([docs](https://docs.python.org/3/library/argparse.html)). Here are the main steps that we use:\n",
    "\n",
    "* Create an `argparse.ArgumentParser`. This object contains a description of the program and serves as a base for the arguments we will add.\n",
    "* Add arguments to the parser using `argparse.ArgumentParser.add_argument`. This same function is used for both positional and optional arguments. We'll see it in more detail in a bit.\n",
    "* Parse the arguments passed in from the command line using `argparse.ArgumentParser.parse_args`. This produces an `argparse.Namespace` object that holds the values of each argument. We can then pass these to functions and use them in our script.\n",
    "\n",
    "We'll go into each step in a bit more detail. A nice thing about using `argparse` is that the parser can automatically generate a help screen that provides detailed information about all your command line arguments. This help screen is built using description strings that you pass when creating the parser and adding the arguments.\n",
    "\n",
    "#### Creating the Argument Parser\n",
    "\n",
    "To create the argument parser, we create an object of type `argparse.ArgumentParser`. There are several parameters that we can pass in, but for many of them the default value is quite good. The ones that I recommend setting are:\n",
    "\n",
    "* `description` - provide a string explaining what the script does, as well as putting in any relevant citations (if you're implementing a published algorithm). This text is displayed at the *top* of the help screen.\n",
    "* `epilog` - provide additional summary information about your script. It may be useful to put copyright and contact information here, as this text appears at the bottom of the help screen.\n",
    "\n",
    "Our code usually looks something like this:\n",
    "\n",
    "```python\n",
    "\n",
    "parser = argparse.ArgumentParser(description=\"description here\", epilog=\"epilog here\")\n",
    "\n",
    "```\n",
    "\n",
    "#### Adding Arguments\n",
    "\n",
    "To add arguments, we simply use the `add_argument` method ([docs](https://docs.python.org/3/library/argparse.html#the-add-argument-method)). This method takes in a number of arguments. Here are some of the main ones. See the documentation for a full explanation:\n",
    "\n",
    "* The first argument is the *name* in the case of a positional argument or the *flags* in the case of an optional argument. For the optional arguments, you can specify **two** values: a short, single letter flag after a single dash, and a longer flag after two dashes. In the second case, if multiple words are combined, they are typically separated by a single dash (**not** an underscore).\n",
    "* `type` - the type of the value (typically `str`, `int`, `float`).\n",
    "* `required` - indicates whether the optional argument is required (although typically optional arguments are not required).\n",
    "* `default` - the default value for the argument.\n",
    "* `action` - specify an action for a special type of value (we'll see a few examples).\n",
    "* `choices` - specify specific values that the argument can take.\n",
    "* `help` - text to display for this argument in the help screen.\n",
    "\n",
    "##### Actions\n",
    "\n",
    "The `action` keyword argument in the `add_argument` function can take in a number of different values. We'll only discuss some of them here:\n",
    "\n",
    "* `store_true` - if the optional argument is present, it has a value of `True` in the parsed namespace. Otherwise, it stores `False`.\n",
    "* `store_false` - if the optional argument is present, it has a value of `False` in the parsed namespace. Otherwise, it stores `True`.\n",
    "* `store_const` - if the optional argument is present, it has a value of `const` specified in the `add_argument` function. Otherwise, it has a value of `default`.\n",
    "\n",
    "For each argument we want to add, we call `add_argument`.\n",
    "\n",
    "#### Parsing\n",
    "\n",
    "To parse the arguments, we call the `parse_args` method on the argument parser object. We can pass in a number of different arguments to this function:\n",
    "\n",
    "* `str` - A string containing the arguments as we would write them on the command line.\n",
    "* `list` - A list containing each positional argument, followed by each optional argument name, and each optional argument value, all as strings.\n",
    "* Nothing - if no arguments are provided, then the standard input is provided. Typically in a script, we use this, as the standard input contains the command line arguments.\n",
    "\n",
    "The result of the function call is a `Namespace` object. The attributes of this object have the same name as the command line arguments from the parser. For positional arguments, the names are exactly as indicated. For optional arguments, the names follow the long-form names, without the preceding dashes and with all internal dashes replaced with underscores. The respective names can be specified when adding the arguments using the `dest` keyword argument.\n",
    "\n",
    "Let's write a sample parser here:"
   ]
  },
  {
   "cell_type": "code",
   "execution_count": 7,
   "metadata": {},
   "outputs": [
    {
     "name": "stdout",
     "output_type": "stream",
     "text": [
      "Namespace(positional_argument='Opt2', option_argument=5, test=True)\n"
     ]
    }
   ],
   "source": [
    "# Your code here\n",
    "\n",
    "import argparse\n",
    "\n",
    "my_parser = argparse.ArgumentParser(description=\"Test parser for demonstration.\")\n",
    "my_parser.add_argument(\"positional_argument\", choices=[\"Opt1\", \"Opt2\", \"Opt3\"], help=\"Required positional argument.\")\n",
    "my_parser.add_argument(\"-o\", \"--option-argument\", type=int, default=32, help=\"Some numeric optional argument\")\n",
    "my_parser.add_argument(\"-t\", \"--test\", action=\"store_true\", help=\"Demo of `store_true`.\")\n",
    "\n",
    "parsed_vals = my_parser.parse_args([\"Opt2\", \"-o\", \"5\", \"--test\"])\n",
    "print(parsed_vals)"
   ]
  },
  {
   "cell_type": "markdown",
   "metadata": {},
   "source": [
    "### Basic Scripts - Hands-on Exercise II: DNA Processing Script with Arguments\n",
    "\n",
    "To finish up this module, let's modify our script from the previous exercise to take in the following command line arguments:\n",
    "\n",
    "* The input directory of FASTA DNA sequences (positional).\n",
    "* The output directory of FASTA protein sequences (optional - default is a directory called \"protein_output\" in the current directory).\n",
    "* The maximum number of sequences to process, as an integer (optional - default is 0, meaning to process all sequences).\n",
    "* A flag indicating whether to compute the statistics and print the results.\n",
    "\n",
    "Modify the code from a the previous exercise."
   ]
  },
  {
   "cell_type": "code",
   "execution_count": null,
   "metadata": {},
   "outputs": [],
   "source": [
    "# Your code in a separate file"
   ]
  },
  {
   "cell_type": "markdown",
   "metadata": {},
   "source": [
    "## Module Summary\n",
    "\n",
    "We've reached the end of our final content-heavy module. In this module, we have seen:\n",
    "\n",
    "* How to **read and write text files**.\n",
    "* How to work with **operating system file paths** and **files** using the modules `os` and `shutil`.\n",
    "* How to **run basic scripts** from the command line.\n",
    "* How to add **command line arguments** using `argparse` to be able to customise functionality."
   ]
  },
  {
   "cell_type": "markdown",
   "metadata": {},
   "source": [
    "# Module 5 - Where to Go From Here\n",
    "We've just about reached the end of this workshop. Let's take a moment to review what we've seen and where we can go from here.\n",
    "\n",
    "## Workshop Summary\n",
    "In this workshop, we've seen a bunch of different topics. Here are the key points of what we've discussed:\n",
    "\n",
    "* We saw how to wrap small units of behaviour into **functions** so that they can be easily repeated, with the ability to pass specific **arguments** as **parameters** to produce certain **outputs**.\n",
    "* We saw how to create **classes** as *templates* to define new types of **objects** to group together different **attributes** (variables) and different **methods** (functions). We also saw how to use **data classes** to simplify some of the class creation.\n",
    "* We saw how to **find and install packages**, how to **import** them into our own code. Specifically, we also saw how to use **NumPy** and how to read **documentation** to learn more about this package.\n",
    "* We saw how to interact with the **operating system** to **read and write** text files and **move and copy** files.\n",
    "* We saw how to write **Python scripts** that don't run in a Jupyter Notebook and can be called from the **command line** with different **command line arguments**.\n",
    "\n",
    "While these skills aren't *everything*, they still provide a solid basis for you to be able to learn **even more** about writing code in Python.\n",
    "\n",
    "## Next Steps\n",
    "\n",
    "What is this **even more**, you may be wondering... Well, here are some of the topics that you can explore.\n",
    "\n",
    "### Class Inheritance\n",
    "\n",
    "We saw how to define classes from scratch. But, it's also possible to define new classes based on old classes to extend their functionality. The new class is said to *inherit* attributes and methods from the old class, known as the *superclass*. It's also possible to **override** methods to change their functionality. While I didn't have time to cover inheritance today, here are some links that may be able to help:\n",
    "\n",
    "* From the official [Python docs](https://docs.python.org/3/tutorial/classes.html#inheritance).\n",
    "* From an [online tutorial](https://realpython.com/inheritance-composition-python/).\n",
    "\n",
    "### Enumerated Types\n",
    "\n",
    "We've been working a lot with DNA sequences represented as strings. We've been assuming that users only input valid sequences. But, a character can contain more values than just `ATGC`. Instead of relying on strings, what if we had a type of object that could **only** be `A`, `T`, `G` or `C`? Well, we can define such an object using **enumerated types**. An **enumerated type** (also known as an *enum*) is an object that can only take one of a set of valid values. These values can be represented different underlying Python types, such as integers or strings. Defining an enum is very straightforward and relies on the `Enum` class in the built-in `enum` module. For our DNA example, we could define an enum as:\n",
    "\n",
    "```python\n",
    "\n",
    "from enum import Enum\n",
    "\n",
    "class DeoxyRiboNucleotide(Enum):\n",
    "    A = 'A'\n",
    "    T = 'T'\n",
    "    G = 'G'\n",
    "    C = 'C'\n",
    "\n",
    "\n",
    "```\n",
    "\n",
    "And then, in our DNA sequence object, we can change the type of the `sequence` to be a list of `DeoxyRiboNucleotide`s.\n",
    "\n",
    "Enums are also useful if you have a function where there are various options available for a parameter, and you want to make sure the user enters a valid option. In my own work, I've used enumerated types to define units.\n",
    "\n",
    "To learn more about using enumerated types, see the [official documentation](https://docs.python.org/3/library/enum.html).\n",
    "\n",
    "### Working with Data Frames using Pandas\n",
    "\n",
    "We briefly touched on data analysis using NumPy. But, what if we want something that can work more like a spreadsheet, and can handle different types of columns? Here, **[Pandas](https://pandas.pydata.org/)** is a great choice! Pandas has tools for inputting data from a number of file formats, including Excel, processing the data and outputting it to various formats. If you have to work with data that is not necessarily all the same type, I definitely recommend checking it out!\n",
    "\n",
    "### Creating Python Packages to Distribute with PyPI\n",
    "\n",
    "We've seen how to *install* packages, but did you know it's very easy to also create and publish your own? Python has an official [tutorial](https://packaging.python.org/en/latest/tutorials/packaging-projects/) that explains how to organise your code to create a package that you can then upload to PyPI to distribute. If you plan on distributing your code, it's also a good idea to read up about different **software licenses** (see [here](https://choosealicense.com/)). Different licenses give users different levels of freedom to use and modify your code.\n",
    "\n",
    "### Writing Good Documentation\n",
    "\n",
    "If you're going to distribute your package, you may want to write some nice documentation that goes with it. To generate a nice documentation website, check out Sphinx (https://www.sphinx-doc.org/en/master/). I haven't had time to learn it myself, but it comes quite recommended. You can also host Sphinx documentation on a platform like **[Read the docs*](https://about.readthedocs.com/?ref=readthedocs.org)**.\n",
    "\n",
    "### Developing Python GUIs using PyQt\n",
    "\n",
    "Working on the command line is great fun... but what if you want to build something visual so that people don't need to open the scary terminal to run your code? The good news is that there are tools for developing graphical user interfaces (GUIs) in Python. A common library used is PyQt. There are tutorials online for learning how to use these tools to develop an intuitive GUI. I recommend [this site](https://www.pythonguis.com/). It explains multiple different libraries in great depth.\n",
    "\n",
    "### Other Topics of Interest\n",
    "\n",
    "These other topics may also be interesting to some of you:\n",
    "\n",
    "* Hosting your code online using GitHub.\n",
    "* Parallel processing using the `multiprocessing` module.\n",
    "* Image processing using Scikit Image.\n",
    "* Generating plots using Matplotlib.\n",
    "* Generating websites using Flask or Django.\n",
    "\n",
    "## Important Resources\n",
    "\n",
    "As you continue your Python journey, there are many resources available to help you. We'll discuss a few of them here.\n",
    "\n",
    "### Python Documentation\n",
    "\n",
    "When in doubt, start [here](https://docs.python.org/3/)! Python maintains very clear documentation that includes descriptions of all the built-in modules, classes and functions. They also have tutorials online. If you are learning a new concept that is built into Python, chances are you can find something here to help you. The documentation also explains any quirks associated with functions (like that `math.cos` takes an angle in **radians**), so it's always a good idea to read up about any functions you're using.\n",
    "\n",
    "### Package Documentation\n",
    "\n",
    "If you're using a package, chances are they have a similar documentation website. [NumPy](https://numpy.org/doc/stable/) does. So does [SciPy](https://docs.scipy.org/doc/scipy/). And [Matplotlib](https://matplotlib.org/stable/api/index). And [Scikit Learn](https://scikit-learn.org/stable/modules/classes.html). These packages offer both full API documentation as well as a user's guide. Take advantage of both these resources to learn how to use new packages.\n",
    "\n",
    "### Online Tutorials\n",
    "\n",
    "There are many websites that offer online tutorials about various aspects of Python. These include W3Schools (https://www.w3schools.com/python/default.asp) and RealPython (https://realpython.com/). There are certainly others online. You can also look on developer forums, like dev.to (https://dev.to/), which aren't specific to Python.\n",
    "\n",
    "### Your Code Editor\n",
    "\n",
    "This one may raise a few eyebrows... But, Microsoft, JetBrains and others have invested **tons** of time, effort (and I'm sure, money) into developing tools that help programmers. Please, please, please, please use a good code editor to write your code. Don't just write it in Notepad, or TextEdit, or Gedit. At the very least, make sure you have a code linter. Your code editor can often point out places where you've forgotten to close a bracket or you've misspelled a variable. Don't underestimate the power of your code editor! Also, take advantage of the features it offers! Use **auto-complete**, use **code suggestions**. Hover your mouse over different words to see the documentation. Learn to use the debugger. Take advantage of the resources you have available!\n",
    "\n",
    "### Stack Overflow\n",
    "\n",
    "If all else fails, check Stack Overflow. Stack Overflow is great, since if you're having a problem with a very widely-used package, chances are someone else has had it too. So, you'll very easily find an answer. But, make sure you've exhausted all other avenues first. Try to understand what the code is doing instead of just sticking together snippets from Stack Overflow. Read the answer, try to understand what the answer is saying. If you don't understand something, try to read up about it. And always look at suggested code with a critical eye. If the suggested code looks sketchy, it's probably sketchy and there may be another, better way.\n",
    "\n",
    "### A Word on ChatGPT\n",
    "\n",
    "Over the course of the past year, generative AI tools, like ChatGPT, have completely changed how we get information. These tools can be very useful for performing some tasks, especially ones that we sometimes find tedious. I hear that ChatGPT is quite good at coding, as are other tools, such as GitHub Copilot. I ***strongly*** recommend that if you plan on using these tools, you develop a solid understanding of programming concepts ***first***. You should be able to understand what the code you are being given does. Similar to Stack Overflow responses, don't just copy the answer. Make sure you read it, understand it, and can explain it to a friend. That way, when (not if) something doesn't work perfectly, you are familiar enough with the code. These tools are very powerful and (I hear) produce code that runs very well, but make sure that you aren't copying any code that you don't understand. Programming is not just about getting tasks done. It's about *thinking* and developing certain logic and intuition. It can also be very fun.\n",
    "\n",
    "## Conclusion\n",
    "\n",
    "We've now reached the end of this workshop. You now have the skills necessary to write powerful scripts that look professional. I hope that you continue your programming journey and apply these skills to help advance your research and the field as a whole. Please remember to fill out the feedback survey. If you have any questions about the material, feel free to reach out to me. For more details about MiCM, and to suggest topics for future workshops, please visit https://www.mcgill.ca/micm/.\n",
    "\n",
    "Until next time!"
   ]
  },
  {
   "cell_type": "code",
   "execution_count": 13,
   "metadata": {},
   "outputs": [
    {
     "name": "stdout",
     "output_type": "stream",
     "text": [
      "Good luck in the Python-verse!\n"
     ]
    }
   ],
   "source": [
    "print(\"Good luck in the Python-verse!\")"
   ]
  }
 ],
 "metadata": {
  "kernelspec": {
   "display_name": "Python 3",
   "language": "python",
   "name": "python3"
  },
  "language_info": {
   "codemirror_mode": {
    "name": "ipython",
    "version": 3
   },
   "file_extension": ".py",
   "mimetype": "text/x-python",
   "name": "python",
   "nbconvert_exporter": "python",
   "pygments_lexer": "ipython3",
   "version": "3.10.4"
  }
 },
 "nbformat": 4,
 "nbformat_minor": 2
}
